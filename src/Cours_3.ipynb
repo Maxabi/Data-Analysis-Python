{
 "cells": [
  {
   "cell_type": "markdown",
   "metadata": {},
   "source": [
    "<h1>Cours 3 : Analyse Factorielle des Correspondances et autres (TP 6)<span class=\"tocSkip\"></span></h1>"
   ]
  },
  {
   "cell_type": "markdown",
   "metadata": {
    "toc": true
   },
   "source": [
    "<h1>Table of Contents<span class=\"tocSkip\"></span></h1>\n",
    "<div class=\"toc\"><ul class=\"toc-item\"><li><span><a href=\"#Unique-Partie\" data-toc-modified-id=\"Unique-Partie-1\"><span class=\"toc-item-num\">1&nbsp;&nbsp;</span>Unique Partie</a></span><ul class=\"toc-item\"><li><span><a href=\"#Cours\" data-toc-modified-id=\"Cours-1.1\"><span class=\"toc-item-num\">1.1&nbsp;&nbsp;</span>Cours</a></span><ul class=\"toc-item\"><li><span><a href=\"#Rappels\" data-toc-modified-id=\"Rappels-1.1.1\"><span class=\"toc-item-num\">1.1.1&nbsp;&nbsp;</span>Rappels</a></span></li></ul></li><li><span><a href=\"#Exercice\" data-toc-modified-id=\"Exercice-1.2\"><span class=\"toc-item-num\">1.2&nbsp;&nbsp;</span>Exercice</a></span></li></ul></li></ul></div>"
   ]
  },
  {
   "cell_type": "markdown",
   "metadata": {
    "collapsed": true
   },
   "source": [
    "Il n'y aura qu'une seule partie pour ce cours, le principe de l'ACF est d'effectuer une sorte d'ACP vu dans le cours précédent, afin de l'appliquer sur des variables catégorielles. <br>\n"
   ]
  },
  {
   "cell_type": "markdown",
   "metadata": {},
   "source": [
    "# Unique Partie"
   ]
  },
  {
   "cell_type": "markdown",
   "metadata": {},
   "source": [
    "## Cours"
   ]
  },
  {
   "cell_type": "markdown",
   "metadata": {},
   "source": [
    "L'Analyse Factorielle des Correspondances est une technique de visualisation statistique s'appliquant à des variables catégorielles.\n",
    "Elle consiste à établir les relations de deux variables catégorielles entre elles en utilisant la table de contingence."
   ]
  },
  {
   "cell_type": "markdown",
   "metadata": {},
   "source": [
    "### Rappels"
   ]
  },
  {
   "cell_type": "markdown",
   "metadata": {},
   "source": [
    "profil ligne : ligne d'un tableau de contingence dont chaque valeur est divisée par la somme des valeurs de la ligne. <br>\n",
    "profil colonne : colonne d'un tableau de contingence dont chaque valeur est divisée par la somme des valeurs de la colonne."
   ]
  },
  {
   "cell_type": "markdown",
   "metadata": {},
   "source": [
    "L'ACF est une double ACP que l'on réalise sur les profils lignes et les profils colonnes de la table de contingence. Les résultats graphiques de ces deux analyses sont ensuites superposés pour produire un graphique de type nuage de points, ce qui permet d'étudier les relations entre lignes et colonnes."
   ]
  },
  {
   "cell_type": "markdown",
   "metadata": {},
   "source": [
    "## Exercice"
   ]
  },
  {
   "cell_type": "markdown",
   "metadata": {},
   "source": [
    "1) Chargez \"titanic.csv\", ne conserver que les variables \"Survived\", \"Classe\", \"Genre\", \"Age\", \"Prix\", \"Port\".<br>\n",
    "2) Redéfinissez les variables \"Survived\", \"Classe\", \"Genre\" et \"Port\" comme des variables catégorielles. <br>\n",
    "3) Dressez toutes les modalités de ces variables catégorielles. <br>\n",
    "4) Il y a-t-il des valeurs manquantes ? Sur quelles variables et combien ? <br>\n",
    "5) Remplacez les valeurs manquantes par la médiane pour l'une et par \"S\" pour l'autre. <br>\n",
    "6) Créez 4 catégories d'âge : Enfant (0-18), Jeune (18-30), Adulte (30-65), Senior (65+). <br>\n",
    "7) Utilisez la fonction pd.qcut pour créer un découpage du prix en 4 quartiles. <br>\n",
    "8) Conservez uniquement les variables catégorielles. <br>\n",
    "9) Créez les variables dummies et le nuage des variables sur les 2 axes principaux."
   ]
  },
  {
   "cell_type": "code",
   "execution_count": 44,
   "metadata": {
    "collapsed": true
   },
   "outputs": [],
   "source": [
    "import numpy as np\n",
    "import pandas as pd\n",
    "import mca\n",
    "import matplotlib.pyplot as plt"
   ]
  }
 ],
 "metadata": {
  "kernelspec": {
   "display_name": "Python 3",
   "language": "python",
   "name": "python3"
  },
  "language_info": {
   "codemirror_mode": {
    "name": "ipython",
    "version": 3
   },
   "file_extension": ".py",
   "mimetype": "text/x-python",
   "name": "python",
   "nbconvert_exporter": "python",
   "pygments_lexer": "ipython3",
   "version": "3.6.3"
  },
  "toc": {
   "base_numbering": 1,
   "nav_menu": {},
   "number_sections": true,
   "sideBar": true,
   "skip_h1_title": false,
   "title_cell": "Table of Contents",
   "title_sidebar": "Contents",
   "toc_cell": true,
   "toc_position": {},
   "toc_section_display": true,
   "toc_window_display": true
  }
 },
 "nbformat": 4,
 "nbformat_minor": 2
}
