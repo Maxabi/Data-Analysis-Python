{
 "cells": [
  {
   "cell_type": "markdown",
   "metadata": {},
   "source": [
    "<h1> Cours 1 : Programmation Python (TP 1 à 3) <span class=\"tocSkip\"></span></h1>"
   ]
  },
  {
   "cell_type": "markdown",
   "metadata": {
    "toc": true
   },
   "source": [
    "<h1>Table of Contents<span class=\"tocSkip\"></span></h1>\n",
    "<div class=\"toc\"><ul class=\"toc-item\"><li><span><a href=\"#Première-Partie-(2H30)\" data-toc-modified-id=\"Première-Partie-(2H30)-1\"><span class=\"toc-item-num\">1&nbsp;&nbsp;</span>Première Partie (2H30)</a></span><ul class=\"toc-item\"><li><span><a href=\"#Cours-(1H)\" data-toc-modified-id=\"Cours-(1H)-1.1\"><span class=\"toc-item-num\">1.1&nbsp;&nbsp;</span>Cours (1H)</a></span><ul class=\"toc-item\"><li><span><a href=\"#Calculs\" data-toc-modified-id=\"Calculs-1.1.1\"><span class=\"toc-item-num\">1.1.1&nbsp;&nbsp;</span>Calculs</a></span></li><li><span><a href=\"#Incrémentation\" data-toc-modified-id=\"Incrémentation-1.1.2\"><span class=\"toc-item-num\">1.1.2&nbsp;&nbsp;</span>Incrémentation</a></span></li><li><span><a href=\"#Boucle\" data-toc-modified-id=\"Boucle-1.1.3\"><span class=\"toc-item-num\">1.1.3&nbsp;&nbsp;</span>Boucle</a></span></li><li><span><a href=\"#Test\" data-toc-modified-id=\"Test-1.1.4\"><span class=\"toc-item-num\">1.1.4&nbsp;&nbsp;</span>Test</a></span></li><li><span><a href=\"#Fonctions\" data-toc-modified-id=\"Fonctions-1.1.5\"><span class=\"toc-item-num\">1.1.5&nbsp;&nbsp;</span>Fonctions</a></span></li></ul></li><li><span><a href=\"#Exercices-(1H30)\" data-toc-modified-id=\"Exercices-(1H30)-1.2\"><span class=\"toc-item-num\">1.2&nbsp;&nbsp;</span>Exercices (1H30)</a></span><ul class=\"toc-item\"><li><span><a href=\"#Premier-exercice\" data-toc-modified-id=\"Premier-exercice-1.2.1\"><span class=\"toc-item-num\">1.2.1&nbsp;&nbsp;</span>Premier exercice</a></span></li><li><span><a href=\"#Deuxième-exercice\" data-toc-modified-id=\"Deuxième-exercice-1.2.2\"><span class=\"toc-item-num\">1.2.2&nbsp;&nbsp;</span>Deuxième exercice</a></span></li><li><span><a href=\"#Troisième-exercice\" data-toc-modified-id=\"Troisième-exercice-1.2.3\"><span class=\"toc-item-num\">1.2.3&nbsp;&nbsp;</span>Troisième exercice</a></span></li><li><span><a href=\"#Quatrième-exercice\" data-toc-modified-id=\"Quatrième-exercice-1.2.4\"><span class=\"toc-item-num\">1.2.4&nbsp;&nbsp;</span>Quatrième exercice</a></span></li></ul></li></ul></li><li><span><a href=\"#Deuxième-Partie-(4H15)\" data-toc-modified-id=\"Deuxième-Partie-(4H15)-2\"><span class=\"toc-item-num\">2&nbsp;&nbsp;</span>Deuxième Partie (4H15)</a></span><ul class=\"toc-item\"><li><span><a href=\"#Cours-(1H15)\" data-toc-modified-id=\"Cours-(1H15)-2.1\"><span class=\"toc-item-num\">2.1&nbsp;&nbsp;</span>Cours (1H15)</a></span><ul class=\"toc-item\"><li><span><a href=\"#Numpy\" data-toc-modified-id=\"Numpy-2.1.1\"><span class=\"toc-item-num\">2.1.1&nbsp;&nbsp;</span>Numpy</a></span><ul class=\"toc-item\"><li><span><a href=\"#Import\" data-toc-modified-id=\"Import-2.1.1.1\"><span class=\"toc-item-num\">2.1.1.1&nbsp;&nbsp;</span>Import</a></span></li><li><span><a href=\"#Liste,-conversion,-array\" data-toc-modified-id=\"Liste,-conversion,-array-2.1.1.2\"><span class=\"toc-item-num\">2.1.1.2&nbsp;&nbsp;</span>Liste, conversion, array</a></span></li><li><span><a href=\"#Calcul-numérique\" data-toc-modified-id=\"Calcul-numérique-2.1.1.3\"><span class=\"toc-item-num\">2.1.1.3&nbsp;&nbsp;</span>Calcul numérique</a></span></li><li><span><a href=\"#Calcul-matriciel\" data-toc-modified-id=\"Calcul-matriciel-2.1.1.4\"><span class=\"toc-item-num\">2.1.1.4&nbsp;&nbsp;</span>Calcul matriciel</a></span></li><li><span><a href=\"#Indexation\" data-toc-modified-id=\"Indexation-2.1.1.5\"><span class=\"toc-item-num\">2.1.1.5&nbsp;&nbsp;</span>Indexation</a></span></li><li><span><a href=\"#Manipulation-de-dimensions\" data-toc-modified-id=\"Manipulation-de-dimensions-2.1.1.6\"><span class=\"toc-item-num\">2.1.1.6&nbsp;&nbsp;</span>Manipulation de dimensions</a></span></li></ul></li><li><span><a href=\"#Pandas,-matplotlib\" data-toc-modified-id=\"Pandas,-matplotlib-2.1.2\"><span class=\"toc-item-num\">2.1.2&nbsp;&nbsp;</span>Pandas, matplotlib</a></span><ul class=\"toc-item\"><li><span><a href=\"#Pandas\" data-toc-modified-id=\"Pandas-2.1.2.1\"><span class=\"toc-item-num\">2.1.2.1&nbsp;&nbsp;</span>Pandas</a></span></li><li><span><a href=\"#Matplotlib\" data-toc-modified-id=\"Matplotlib-2.1.2.2\"><span class=\"toc-item-num\">2.1.2.2&nbsp;&nbsp;</span>Matplotlib</a></span></li></ul></li></ul></li><li><span><a href=\"#Exercices-(3H)\" data-toc-modified-id=\"Exercices-(3H)-2.2\"><span class=\"toc-item-num\">2.2&nbsp;&nbsp;</span>Exercices (3H)</a></span><ul class=\"toc-item\"><li><span><a href=\"#Premier-exercice-(numpy-only)\" data-toc-modified-id=\"Premier-exercice-(numpy-only)-2.2.1\"><span class=\"toc-item-num\">2.2.1&nbsp;&nbsp;</span>Premier exercice (numpy only)</a></span></li><li><span><a href=\"#Deuxième-exercice\" data-toc-modified-id=\"Deuxième-exercice-2.2.2\"><span class=\"toc-item-num\">2.2.2&nbsp;&nbsp;</span>Deuxième exercice</a></span></li><li><span><a href=\"#Troisième-exercice\" data-toc-modified-id=\"Troisième-exercice-2.2.3\"><span class=\"toc-item-num\">2.2.3&nbsp;&nbsp;</span>Troisième exercice</a></span><ul class=\"toc-item\"><li><span><a href=\"#EXERCICE-A-RENDRE\" data-toc-modified-id=\"EXERCICE-A-RENDRE-2.2.3.1\"><span class=\"toc-item-num\">2.2.3.1&nbsp;&nbsp;</span>EXERCICE A RENDRE</a></span></li></ul></li><li><span><a href=\"#Quatrième-exercice\" data-toc-modified-id=\"Quatrième-exercice-2.2.4\"><span class=\"toc-item-num\">2.2.4&nbsp;&nbsp;</span>Quatrième exercice</a></span></li></ul></li></ul></li></ul></div>"
   ]
  },
  {
   "cell_type": "markdown",
   "metadata": {},
   "source": [
    "Dans ce premier cours, nous allons nous familiariser avec le language Python et l'environnement Jupyter Notebook ainsi que les principaux packages indispensables au Data Scientist Python. <br>\n",
    "\n",
    "La plupart des morceaux de programmes sont déjà écrits, il suffit de faire SHIFT+ENTER lorsque la cellule est sélectionnée pour lancer le code. <br>\n",
    "\n",
    "Lorsque \"##Votre Code##\" apparait dans une cellule, c'est à vous de jouer et de briller ! Si le code est bon, un message \"Bravo\" sera affiché en sortie. <br>\n",
    "\n",
    "À la fin de chaque partie, il y a au moins 2 exercices pour vous entraîner. Un simple et des plus difficiles.\n"
   ]
  },
  {
   "cell_type": "markdown",
   "metadata": {},
   "source": [
    "# Première Partie (2H30)"
   ]
  },
  {
   "cell_type": "markdown",
   "metadata": {},
   "source": [
    "Dans cette première partie, nous introduisons les éléments de programmation simple tel que les calculs, l'incrémentation, les boucles, les tests et les fonctions."
   ]
  },
  {
   "cell_type": "markdown",
   "metadata": {},
   "source": [
    "## Cours (1H)"
   ]
  },
  {
   "cell_type": "markdown",
   "metadata": {},
   "source": [
    "### Calculs"
   ]
  },
  {
   "cell_type": "markdown",
   "metadata": {},
   "source": [
    "L'opération \"=\" correspond à affecter un nombre à une variable. \n",
    "L'objet \"None\" est un objet passe-partout qui correspond à un élément vide, dans cet exercice il faut le remplacer par la valeur correspondante.<br>\n",
    "\n",
    "Calculez mentalement :\n",
    "\\begin{equation*}\n",
    "w=a\\times b+c\\times d \\\\\n",
    "x=a+c/d \\\\\n",
    "y=(a+c)/d \\\\\n",
    "z=c\\%d+a \\\\\n",
    "\\end{equation*}"
   ]
  },
  {
   "cell_type": "code",
   "execution_count": 1,
   "metadata": {},
   "outputs": [
    {
     "name": "stdout",
     "output_type": "stream",
     "text": [
      "Essaye encore\n"
     ]
    }
   ],
   "source": [
    "a = 3\n",
    "b = 5\n",
    "c = 8\n",
    "d = 2\n",
    "\n",
    "##Votre Code##\n",
    "w = None\n",
    "x = None\n",
    "y = None\n",
    "z = None\n",
    "###Fin du Code###\n",
    "\n",
    "if w==a*b+c*d and x==a+c/d and y==(a+c)/d and z==c%d+a:\n",
    "    print(\"Bravo !\")\n",
    "else:\n",
    "    print(\"Essaye encore\")\n"
   ]
  },
  {
   "cell_type": "markdown",
   "metadata": {},
   "source": [
    "### Incrémentation "
   ]
  },
  {
   "cell_type": "markdown",
   "metadata": {},
   "source": [
    "L'incrémentation consiste à changer le contenu d'une variable en se basant sur son ancienne valeur. <br>\n",
    "\n",
    "La commande \"print\" affiche en sortie le résultat demandé. <br>\n",
    "Le # permet d'écrire des commentaires dans la cellule.<br>\n",
    "\n",
    "Essayez de trouver les 3 différentes valeurs prises par x avant de retirer les # pour voir les résultats. \n",
    "\n"
   ]
  },
  {
   "cell_type": "code",
   "execution_count": 5,
   "metadata": {
    "collapsed": true
   },
   "outputs": [],
   "source": [
    "x = 5\n",
    "x = x + 1\n",
    "#print (x)\n",
    "x += 6\n",
    "#print (x)\n",
    "x -= 6\n",
    "#print (x)"
   ]
  },
  {
   "cell_type": "markdown",
   "metadata": {},
   "source": [
    "### Boucle"
   ]
  },
  {
   "cell_type": "markdown",
   "metadata": {},
   "source": [
    "La boucle \"for\" est très pratique pour les calculs incrémentales, voici un exemple. <br>\n",
    "\n",
    "Questions:\n",
    "- Combien de fois la boucle est-elle parcourue ?\n",
    "- Quels sont les nombres qui doivent apparaître en sortie ?"
   ]
  },
  {
   "cell_type": "code",
   "execution_count": 9,
   "metadata": {
    "collapsed": true
   },
   "outputs": [],
   "source": [
    "for i in range(1,5):\n",
    "    x = x + i \n",
    "    #print(x)"
   ]
  },
  {
   "cell_type": "markdown",
   "metadata": {},
   "source": [
    "### Test"
   ]
  },
  {
   "cell_type": "markdown",
   "metadata": {},
   "source": [
    "Un test \"if\" permet de lancer le programme à l'intérieur du \"if\" lorsque la condition est respectée."
   ]
  },
  {
   "cell_type": "code",
   "execution_count": 11,
   "metadata": {},
   "outputs": [
    {
     "name": "stdout",
     "output_type": "stream",
     "text": [
      "Nombre positif\n"
     ]
    }
   ],
   "source": [
    " x = 8\n",
    "if x > 0:\n",
    "    print (\"Nombre positif\")\n",
    "else:\n",
    "    print (\"Nombre négatif\")"
   ]
  },
  {
   "cell_type": "markdown",
   "metadata": {},
   "source": [
    "À vous de jouer, tester la parité de y pour que le résultat affiché soit \"Nombre impair\"."
   ]
  },
  {
   "cell_type": "code",
   "execution_count": 32,
   "metadata": {},
   "outputs": [
    {
     "name": "stdout",
     "output_type": "stream",
     "text": [
      "Nombre pair\n",
      "Essaye encore\n"
     ]
    }
   ],
   "source": [
    "##Votre Code##\n",
    "y = 7\n",
    "if ...:\n",
    "###Fin du Code###    \n",
    "    print (\"Nombre pair\")\n",
    "    print (\"Essaye encore\")\n",
    "else:\n",
    "    print (\"Nombre impair\")\n",
    "    print(\"Bravo !\")\n"
   ]
  },
  {
   "cell_type": "markdown",
   "metadata": {},
   "source": [
    "### Fonctions"
   ]
  },
  {
   "cell_type": "markdown",
   "metadata": {},
   "source": [
    "L'écriture de fonctions est l'un des principes essentielles de la programmation. Il permet d'éviter les redondances, avoir un programme plus esthétique et bien d'autres aspects positifs.\n",
    "\n",
    "Questions : \n",
    "- Qu'est ce que je veux faire avec cette fonction ci-dessous ?\n",
    "- Une facon sans boucle de le faire ? Implémentez-là.  "
   ]
  },
  {
   "cell_type": "code",
   "execution_count": 184,
   "metadata": {
    "collapsed": true
   },
   "outputs": [],
   "source": [
    "def fonction(x):\n",
    "    y=0\n",
    "    for i in range(1,x+1):\n",
    "        y+=i\n",
    "    return y"
   ]
  },
  {
   "cell_type": "code",
   "execution_count": 224,
   "metadata": {
    "collapsed": true
   },
   "outputs": [],
   "source": [
    "##Votre Code##\n",
    "def votre_function(x):\n",
    "    ...\n",
    "    return\n",
    "###Fin du Code###"
   ]
  },
  {
   "cell_type": "code",
   "execution_count": 189,
   "metadata": {},
   "outputs": [
    {
     "name": "stdout",
     "output_type": "stream",
     "text": [
      "Bravo !\n"
     ]
    }
   ],
   "source": [
    "if fonction(100)==votre_function(100):\n",
    "    print(\"Bravo !\")\n",
    "else:\n",
    "    print(\"Essaye encore, c'est une somme populaire ;)\")"
   ]
  },
  {
   "cell_type": "markdown",
   "metadata": {},
   "source": [
    "Même si une boucle est très pratique, son coût de calcul est assez élevé, s'il y a une façon de la contourner, utilisez-là ! <br>\n",
    "Regardons le runtime de ces deux fonctions pour un chiffre très grand afin de s'en convaincre."
   ]
  },
  {
   "cell_type": "code",
   "execution_count": 196,
   "metadata": {},
   "outputs": [
    {
     "name": "stdout",
     "output_type": "stream",
     "text": [
      "Avec Boucle 6.7182s\n",
      "Sans Boucle 4e-05s\n"
     ]
    }
   ],
   "source": [
    "import time\n",
    "import numpy as np\n",
    "start = time.time()\n",
    "fonction(100000000)\n",
    "end = time.time()\n",
    "print(\"Avec Boucle \"+str(np.round(end-start,5))+\"s\")\n",
    "start = time.time()\n",
    "votre_function(100000000)\n",
    "end = time.time()\n",
    "print(\"Sans Boucle \"+str(np.round(end-start,5))+\"s\")"
   ]
  },
  {
   "cell_type": "markdown",
   "metadata": {},
   "source": [
    "## Exercices (1H30)"
   ]
  },
  {
   "cell_type": "markdown",
   "metadata": {},
   "source": [
    "### Premier exercice "
   ]
  },
  {
   "cell_type": "markdown",
   "metadata": {},
   "source": [
    "Interpréter les codes suivants, expliquer en commentaire pourquoi il y a une erreur, et corrigez-les."
   ]
  },
  {
   "cell_type": "code",
   "execution_count": 130,
   "metadata": {
    "collapsed": true
   },
   "outputs": [
    {
     "name": "stdout",
     "output_type": "stream",
     "text": [
      "5\n",
      "Corrigez moi svp\n"
     ]
    }
   ],
   "source": [
    "#J'aimerais voir 9\n",
    "a = 5\n",
    "a + 4\n",
    "print (a)\n",
    "if a==9:\n",
    "    print(\"Bravo !\")\n",
    "else:\n",
    "    print(\"Essaye encore\")"
   ]
  },
  {
   "cell_type": "code",
   "execution_count": 131,
   "metadata": {
    "collapsed": true
   },
   "outputs": [
    {
     "ename": "SyntaxError",
     "evalue": "invalid syntax (<ipython-input-131-a1c6c1efbd08>, line 3)",
     "output_type": "error",
     "traceback": [
      "\u001b[0;36m  File \u001b[0;32m\"<ipython-input-131-a1c6c1efbd08>\"\u001b[0;36m, line \u001b[0;32m3\u001b[0m\n\u001b[0;31m    for i in range (1, 10)\u001b[0m\n\u001b[0m                           ^\u001b[0m\n\u001b[0;31mSyntaxError\u001b[0m\u001b[0;31m:\u001b[0m invalid syntax\n"
     ]
    }
   ],
   "source": [
    "#Je veux la somme de 1 à 9\n",
    "a = 0\n",
    "for i in range (1, 10) \n",
    "    a += i\n",
    "print (a) \n",
    "if a==45:\n",
    "    print(\"Bravo !\")\n",
    "else:\n",
    "    print(\"Essaye encore\")"
   ]
  },
  {
   "cell_type": "code",
   "execution_count": 132,
   "metadata": {
    "collapsed": true
   },
   "outputs": [
    {
     "ename": "SyntaxError",
     "evalue": "invalid syntax (<ipython-input-132-ddfaefc1e96c>, line 3)",
     "output_type": "error",
     "traceback": [
      "\u001b[0;36m  File \u001b[0;32m\"<ipython-input-132-ddfaefc1e96c>\"\u001b[0;36m, line \u001b[0;32m3\u001b[0m\n\u001b[0;31m    for i in range (0, 4)\u001b[0m\n\u001b[0m                         ^\u001b[0m\n\u001b[0;31mSyntaxError\u001b[0m\u001b[0;31m:\u001b[0m invalid syntax\n"
     ]
    }
   ],
   "source": [
    "#Je veux la somme de 1 à 4\n",
    "a = 0\n",
    "for i in range (0, 4)\n",
    "        a = a + i\n",
    "    print (a)\n",
    "if a==10:\n",
    "    print(\"Bravo !\")\n",
    "else:\n",
    "    print(\"Essaye encore\")     "
   ]
  },
  {
   "cell_type": "code",
   "execution_count": 133,
   "metadata": {
    "collapsed": true
   },
   "outputs": [
    {
     "ename": "TypeError",
     "evalue": "unsupported operand type(s) for +: 'int' and 'str'",
     "output_type": "error",
     "traceback": [
      "\u001b[0;31m---------------------------------------------------------------------------\u001b[0m",
      "\u001b[0;31mTypeError\u001b[0m                                 Traceback (most recent call last)",
      "\u001b[0;32m<ipython-input-133-cdd45ced09be>\u001b[0m in \u001b[0;36m<module>\u001b[0;34m()\u001b[0m\n\u001b[1;32m      2\u001b[0m \u001b[0ma\u001b[0m \u001b[0;34m=\u001b[0m \u001b[0;36m45\u001b[0m\u001b[0;34m\u001b[0m\u001b[0m\n\u001b[1;32m      3\u001b[0m \u001b[0ms\u001b[0m \u001b[0;34m=\u001b[0m \u001b[0;34m\" Rue des Saints-Pères\"\u001b[0m\u001b[0;34m\u001b[0m\u001b[0m\n\u001b[0;32m----> 4\u001b[0;31m \u001b[0mprint\u001b[0m \u001b[0;34m(\u001b[0m\u001b[0ma\u001b[0m \u001b[0;34m+\u001b[0m \u001b[0ms\u001b[0m\u001b[0;34m)\u001b[0m\u001b[0;34m\u001b[0m\u001b[0m\n\u001b[0m\u001b[1;32m      5\u001b[0m \u001b[0;32mif\u001b[0m \u001b[0;34m(\u001b[0m\u001b[0ma\u001b[0m\u001b[0;34m+\u001b[0m\u001b[0ms\u001b[0m\u001b[0;34m==\u001b[0m\u001b[0;34m\"45 Rue des Saints-Pères\"\u001b[0m\u001b[0;34m)\u001b[0m\u001b[0;34m:\u001b[0m\u001b[0;34m\u001b[0m\u001b[0m\n\u001b[1;32m      6\u001b[0m     \u001b[0mprint\u001b[0m\u001b[0;34m(\u001b[0m\u001b[0;34m\"Bravo !\"\u001b[0m\u001b[0;34m)\u001b[0m\u001b[0;34m\u001b[0m\u001b[0m\n",
      "\u001b[0;31mTypeError\u001b[0m: unsupported operand type(s) for +: 'int' and 'str'"
     ]
    }
   ],
   "source": [
    "# Je veux écrire l'adresse de l'université \n",
    "a = 45\n",
    "s = \"Rue des Saints-Pères\"\n",
    "print (a + s)\n",
    "if (a+s==\"45 Rue des Saints-Pères\"):\n",
    "    print(\"Bravo !\")\n",
    "else:\n",
    "    print(\"Essaye encore\")"
   ]
  },
  {
   "cell_type": "markdown",
   "metadata": {},
   "source": [
    "### Deuxième exercice"
   ]
  },
  {
   "cell_type": "markdown",
   "metadata": {},
   "source": [
    "Ecrivez-moi deux différentes fonctions pour calculer une factorielle  (une itérative et une récursive)."
   ]
  },
  {
   "cell_type": "code",
   "execution_count": 162,
   "metadata": {
    "collapsed": true
   },
   "outputs": [],
   "source": [
    "##Votre Code##\n",
    "def factorielle_iter(x):\n",
    "    ...\n",
    "    return\n",
    "###Fin du Code###\n",
    "if factorielle_iter(6)==720:\n",
    "    print(\"Bravo pour la méthode itérative !\")\n",
    "else:\n",
    "    print(\"Essaye encore\")"
   ]
  },
  {
   "cell_type": "code",
   "execution_count": 223,
   "metadata": {},
   "outputs": [
    {
     "name": "stdout",
     "output_type": "stream",
     "text": [
      "Essaye encore\n"
     ]
    }
   ],
   "source": [
    "##Votre Code##\n",
    "def factorielle_recur(x):\n",
    "    ...\n",
    "    return\n",
    "###Fin du Code###\n",
    "\n",
    "if factorielle_iter(6)==720:\n",
    "    print(\"Bravo pour la méthode itérative !\")\n",
    "else:\n",
    "    print(\"Essaye encore\")"
   ]
  },
  {
   "cell_type": "markdown",
   "metadata": {},
   "source": [
    "### Troisième exercice"
   ]
  },
  {
   "cell_type": "markdown",
   "metadata": {},
   "source": [
    "Calculez la somme des factorielles de 1 à x."
   ]
  },
  {
   "cell_type": "code",
   "execution_count": 201,
   "metadata": {
    "collapsed": true
   },
   "outputs": [],
   "source": [
    "##Votre Code##\n",
    "def sum_facto(x):\n",
    "    ...\n",
    "    return\n",
    "###Fin du Code###\n",
    "\n",
    "if sum_facto(20)==2561327494111820313:\n",
    "    print (\"Bravo !\")\n",
    "else:\n",
    "    print (\"Essaye encore \")"
   ]
  },
  {
   "cell_type": "markdown",
   "metadata": {},
   "source": [
    "### Quatrième exercice"
   ]
  },
  {
   "cell_type": "markdown",
   "metadata": {},
   "source": [
    "Ecrivez une fonction qui compte le nombre de voyelles."
   ]
  },
  {
   "cell_type": "code",
   "execution_count": 227,
   "metadata": {},
   "outputs": [
    {
     "name": "stdout",
     "output_type": "stream",
     "text": [
      "Encore un peu pour finir la première partie du cours !\n"
     ]
    }
   ],
   "source": [
    "##Votre Code##\n",
    "def compte_voyelles(mot):\n",
    "    ...\n",
    "    return \n",
    "###Fin du Code###\n",
    "\n",
    "if compte_voyelles(\"voiture\")==4 and compte_voyelles(\"maison\")==3:\n",
    "    print(\"Bravo, tu as fini la première partie du cours !\")\n",
    "else: \n",
    "    print(\"Encore un peu pour finir la première partie du cours !\")\n"
   ]
  },
  {
   "cell_type": "markdown",
   "metadata": {},
   "source": [
    "# Deuxième Partie (4H15)"
   ]
  },
  {
   "cell_type": "markdown",
   "metadata": {},
   "source": [
    "Dans cette seconde partie, nous explorerons les packages numpy, pandas et matplotlib essentielles à posséder dans son arsenal."
   ]
  },
  {
   "cell_type": "markdown",
   "metadata": {},
   "source": [
    "## Cours (1H15)"
   ]
  },
  {
   "cell_type": "markdown",
   "metadata": {},
   "source": [
    "### Numpy"
   ]
  },
  {
   "cell_type": "markdown",
   "metadata": {},
   "source": [
    "La plupart des calculs en apprentissage statistique sont des opérations matricielles. Le package numpy contient tous les outils pour faire ses opérations de la façon la plus optimale. <br>"
   ]
  },
  {
   "cell_type": "markdown",
   "metadata": {},
   "source": [
    "#### Import "
   ]
  },
  {
   "cell_type": "markdown",
   "metadata": {},
   "source": [
    "Le package numpy est présent dans n'importe quelle installation d'un IDE Python, notamment Jupyter Notebook. Il suffit donc de l'importer :"
   ]
  },
  {
   "cell_type": "code",
   "execution_count": 230,
   "metadata": {
    "collapsed": true
   },
   "outputs": [],
   "source": [
    "import numpy"
   ]
  },
  {
   "cell_type": "markdown",
   "metadata": {},
   "source": [
    "Généralement, on donne un alias à un package car il contient une multitude de fonctions et comme le programmeur est paresseux, il préfère écrire moins. L'alias admis de tous pour numpy est np."
   ]
  },
  {
   "cell_type": "code",
   "execution_count": 232,
   "metadata": {
    "collapsed": true
   },
   "outputs": [],
   "source": [
    "import numpy as np"
   ]
  },
  {
   "cell_type": "markdown",
   "metadata": {},
   "source": [
    "#### Liste, conversion, array"
   ]
  },
  {
   "cell_type": "markdown",
   "metadata": {},
   "source": [
    "Pour stocker plusieurs éléments dans un seul objet, on utilise le concept de liste. Comme son nom l'indique, ce n'est simplement qu'une liste de termes. (Cela peut être des nombres mais aussi des caractères, ou un mélange des deux). <br>\n"
   ]
  },
  {
   "cell_type": "code",
   "execution_count": 275,
   "metadata": {
    "collapsed": true
   },
   "outputs": [],
   "source": [
    "l1 = [1,3,4,6]\n",
    "l2 = [\"a\",2,\"b\",4]"
   ]
  },
  {
   "cell_type": "markdown",
   "metadata": {},
   "source": [
    "Que se passe-t-il si l'on \"somme\" deux listes ?"
   ]
  },
  {
   "cell_type": "code",
   "execution_count": 276,
   "metadata": {},
   "outputs": [
    {
     "data": {
      "text/plain": [
       "[1, 3, 4, 6, 'a', 2, 'b', 4]"
      ]
     },
     "execution_count": 276,
     "metadata": {},
     "output_type": "execute_result"
    }
   ],
   "source": [
    "l1+l2"
   ]
  },
  {
   "cell_type": "markdown",
   "metadata": {},
   "source": [
    "Elle se concatène pour n'en former qu'une seule. <br>\n",
    "\n",
    "On ne peut pas faire d'opération directement avec les listes, il faut passer par l'objet array de numpy. Retenez bien les arguments que l'on peut obtenir d'un array, notamment dtype et shape."
   ]
  },
  {
   "cell_type": "code",
   "execution_count": 277,
   "metadata": {},
   "outputs": [
    {
     "name": "stdout",
     "output_type": "stream",
     "text": [
      "[1 3 4 6]\n",
      "int64\n",
      "1\n",
      "(4,)\n"
     ]
    }
   ],
   "source": [
    "a = np.array(l1)\n",
    "print(a)\n",
    "print(a.dtype)\n",
    "print(a.ndim)\n",
    "print(a.shape)"
   ]
  },
  {
   "cell_type": "markdown",
   "metadata": {},
   "source": [
    "Lorsque vous allez faire des calculs entre array, vérifiez bien que vous traitez des nombres. Contrairement à une liste, un array a un unique type (integer, float, string). Si une liste contient au moins un string, le array converti sera un Unicode String (U1) :"
   ]
  },
  {
   "cell_type": "code",
   "execution_count": 278,
   "metadata": {},
   "outputs": [
    {
     "data": {
      "text/plain": [
       "dtype('<U1')"
      ]
     },
     "execution_count": 278,
     "metadata": {},
     "output_type": "execute_result"
    }
   ],
   "source": [
    "s = np.array(l2)\n",
    "s.dtype"
   ]
  },
  {
   "cell_type": "markdown",
   "metadata": {},
   "source": [
    "Si vous avez une liste de string mais qu'ils sont en réalité des entiers, on peut forcer une conversion avec astype :"
   ]
  },
  {
   "cell_type": "code",
   "execution_count": 301,
   "metadata": {},
   "outputs": [
    {
     "data": {
      "text/plain": [
       "array([1, 2, 3])"
      ]
     },
     "execution_count": 301,
     "metadata": {},
     "output_type": "execute_result"
    }
   ],
   "source": [
    "l3 = [\"1\",\"2\",\"3\"]\n",
    "b = np.array(l3)\n",
    "b.astype(int)"
   ]
  },
  {
   "cell_type": "markdown",
   "metadata": {},
   "source": [
    "#### Calcul numérique"
   ]
  },
  {
   "cell_type": "markdown",
   "metadata": {},
   "source": [
    "Toutes les opérations de calcul sont possibles entre des arrays de même longueur et dimension, l'addition, la soustraction, la multiplication."
   ]
  },
  {
   "cell_type": "code",
   "execution_count": 358,
   "metadata": {},
   "outputs": [
    {
     "name": "stdout",
     "output_type": "stream",
     "text": [
      "[  3  13 110]\n",
      "[-1  7 90]\n",
      "[   2   30 1000]\n"
     ]
    }
   ],
   "source": [
    "a = np.array([1,10,100])\n",
    "b = np.array([2,3,10])\n",
    "print(a+b)\n",
    "print(a-b)\n",
    "print(a*b)"
   ]
  },
  {
   "cell_type": "markdown",
   "metadata": {},
   "source": [
    "Expliquez ce que fais cette commande :"
   ]
  },
  {
   "cell_type": "code",
   "execution_count": 365,
   "metadata": {},
   "outputs": [
    {
     "data": {
      "text/plain": [
       "array([6.71828183e+00, 2.20354658e+04, 2.68811714e+43])"
      ]
     },
     "execution_count": 365,
     "metadata": {},
     "output_type": "execute_result"
    }
   ],
   "source": [
    "np.exp(a)+b**2\n",
    "# Explication"
   ]
  },
  {
   "cell_type": "markdown",
   "metadata": {},
   "source": [
    "#### Calcul matriciel"
   ]
  },
  {
   "cell_type": "markdown",
   "metadata": {},
   "source": [
    "On a construit des array de dimension 1, aussi appelé 1d-array, maintenant on va construire des objets de forme matricielle : des 2d-array. Il faut partir d'une liste de listes."
   ]
  },
  {
   "cell_type": "code",
   "execution_count": 303,
   "metadata": {},
   "outputs": [
    {
     "name": "stdout",
     "output_type": "stream",
     "text": [
      "2\n",
      "(3, 3)\n"
     ]
    }
   ],
   "source": [
    "l4 = [[1,2,3],[2,3,4],[3,4,5]]\n",
    "matrix = np.array(l4)\n",
    "print(matrix.ndim)\n",
    "print(matrix.shape)"
   ]
  },
  {
   "cell_type": "markdown",
   "metadata": {},
   "source": [
    "NB : le 2d-array se remplit ligne par ligne, ie [1,2,3] est la première ligne de la matrice."
   ]
  },
  {
   "cell_type": "markdown",
   "metadata": {},
   "source": [
    "Comme dans la session d'avant, on se chauffe par des calculs. <br>\n",
    "Calculez :\n",
    "\\begin{equation*}\n",
    "a=\\begin{pmatrix} \n",
    "1 & 2 & 3  \\\\\n",
    "2 & 3 & 4 \\\\\n",
    "3 & 4 & 5 \n",
    "\\end{pmatrix}\n",
    "\\begin{pmatrix} \n",
    "1 & 2 & 3  \\\\\n",
    "2 & 3 & 4 \\\\\n",
    "3 & 4 & 5 \n",
    "\\end{pmatrix}\\\\\n",
    "b=\\begin{pmatrix} \n",
    "1 & 2 & 3  \\\\\n",
    "2 & 3 & 4 \\\\\n",
    "3 & 4 & 5 \n",
    "\\end{pmatrix}\n",
    "+\n",
    "\\begin{pmatrix} \n",
    "1 & 2 & 3  \\\\\n",
    "2 & 3 & 4 \\\\\n",
    "3 & 4 & 5 \n",
    "\\end{pmatrix}\\\\\n",
    "c=\\begin{pmatrix} \n",
    "1 & 2 & 3  \\\\\n",
    "2 & 3 & 4 \\\\\n",
    "3 & 4 & 5 \n",
    "\\end{pmatrix}\n",
    "\\begin{pmatrix} \n",
    "1 & 2 & 3  \\\\\n",
    "2 & 3 & 4 \\\\\n",
    "3 & 4 & 5 \n",
    "\\end{pmatrix}^T\n",
    "\\end{equation*}"
   ]
  },
  {
   "cell_type": "code",
   "execution_count": 320,
   "metadata": {},
   "outputs": [
    {
     "name": "stdout",
     "output_type": "stream",
     "text": [
      "Essaye encore\n"
     ]
    }
   ],
   "source": [
    "##Votre Code##\n",
    "a = np.array([[None,None,None]]*3)\n",
    "b = np.array([[None,None,None]]*3)\n",
    "c = np.array([[None,None,None]]*3)\n",
    "###Fin du Code###\n",
    "\n",
    "if np.array_equal(a,matrix*matrix) and np.array_equal(b,matrix+matrix) and np.array_equal(c,matrix*matrix.T):\n",
    "    print(\"Bravo !\")\n",
    "else:\n",
    "    print(\"Essaye encore\")"
   ]
  },
  {
   "cell_type": "markdown",
   "metadata": {},
   "source": [
    "#### Indexation"
   ]
  },
  {
   "cell_type": "markdown",
   "metadata": {},
   "source": [
    "Contrairement à R, l'indexation des arrays commencent à 0 (tout comme C et Java). <br>\n",
    "Pour accéder à un élément on utilise les crochets []. Par exemple le nombre à la première ligne et la première colonne d'une matrice m est obtenue par m[0,0]. <br>\n",
    "Pour accéder à tous les éléments d'une ligne ou d'une colonne on peut utiliser \":\". <br>\n",
    "\n",
    "En utilisant la matrice \\begin{equation*}m=\n",
    "\\begin{pmatrix} \n",
    "1 & 2 & 3  \\\\\n",
    "4 & 5 & 6 \\\\\n",
    "7 & 8 & 9 \n",
    "\\end{pmatrix}\n",
    "\\end{equation*}\n",
    "donner moi les éléments suivants (en utilisant l'indexation) :\n",
    "- m1 = 2 \n",
    "- m2 = [4,5,6]\n",
    "- m3 = [3,6,9]\n",
    "- m4 = [5,8]\n",
    "\n",
    "\n"
   ]
  },
  {
   "cell_type": "code",
   "execution_count": 332,
   "metadata": {},
   "outputs": [
    {
     "name": "stdout",
     "output_type": "stream",
     "text": [
      "Essaye encore\n"
     ]
    }
   ],
   "source": [
    "m=np.array([[1,2,3],[4,5,6],[7,8,9]])\n",
    "##Votre Code##\n",
    "m1 = None\n",
    "m2 = np.array([None,None,None])\n",
    "m3 = np.array([None,None,None])\n",
    "m4 = np.array([None,None])\n",
    "###Fin du Code###\n",
    "\n",
    "if np.array_equal(m1,2) and np.array_equal(m2,[4,5,6]) and np.array_equal(m3,[3,6,9]) and np.array_equal(m4,[5,8]):\n",
    "    print(\"Bravo !\")\n",
    "else:\n",
    "    print(\"Essaye encore\")"
   ]
  },
  {
   "cell_type": "markdown",
   "metadata": {},
   "source": [
    "#### Manipulation de dimensions"
   ]
  },
  {
   "cell_type": "markdown",
   "metadata": {},
   "source": [
    "La méthode reshape permet de changer la forme de l’array. On précise à reshape la forme souhaitée: par un entier si on veut un 1d-array, ou un couple (n lignes, p colonnes) pour un 2d-array. <br>\n",
    "\n",
    "Quelques autres méthodes utiles de numpy.\n",
    "- np.arange(n) : crée un array contenant les chiffres de 0 à n-1. \n",
    "- np.zeros(n) : crée un array contenant n zeros.\n",
    "- np.ones(n) : crée un array contenant n uns.\n",
    "- np.concatenate((a,b,c)) : concatène les arrays a,b et c. \n",
    "\n",
    "À vous de jouer :\n",
    "- Construisez un array x de 0 à 6.\n",
    "- Construisez un array y contenant 2 zeros.\n",
    "- Construisez un array z contenant 3 uns.\n",
    "- Concatenez x,y,z et stocker le sous la variable g.\n",
    "- redimensionnez g en un 2d-array avec 4 lignes et 3 colonnes et appelez le h."
   ]
  },
  {
   "cell_type": "code",
   "execution_count": 2,
   "metadata": {},
   "outputs": [
    {
     "name": "stdout",
     "output_type": "stream",
     "text": [
      "Bravo !\n"
     ]
    }
   ],
   "source": [
    "##Votre Code## \n",
    "x=np.arange(7)\n",
    "y=np.zeros(2)\n",
    "z=np.ones(3)\n",
    "g=np.concatenate((x,y,z))\n",
    "h=np.reshape(g,(4,3))\n",
    "### Fin du Code###\n",
    "if np.array_equal(h,np.array([[0,1,2],[3,4,5],[6,0,0],[1,1,1]])):\n",
    "    print(\"Bravo !\")\n",
    "else:\n",
    "    print(\"Essaye encore\")"
   ]
  },
  {
   "cell_type": "markdown",
   "metadata": {},
   "source": [
    "### Pandas, matplotlib"
   ]
  },
  {
   "cell_type": "markdown",
   "metadata": {},
   "source": [
    "Le package pandas est très utilisé pour stocker des bases de données et faire des opérations dessus. Il est l'équivalent du dataframe dans R, dans ce cours nous travaillerons très peu avec pandas. <br>\n",
    "Le package matplotlib est le package principal pour faire de la visualisation en Python.<br>\n",
    "\n",
    "Je vous laisse le soin de les explorer en profondeur et de me faire des jolies graphiques pour le projet final, un aperçu des possibilités de matplotlib [içi](https://matplotlib.org/gallery/index.html).<br>\n"
   ]
  },
  {
   "cell_type": "markdown",
   "metadata": {},
   "source": [
    "#### Pandas"
   ]
  },
  {
   "cell_type": "markdown",
   "metadata": {},
   "source": [
    "Pandas est le package pour manipuler des dataframes. Nous montrons içi quelques exemples pour en créer un. "
   ]
  },
  {
   "cell_type": "code",
   "execution_count": 249,
   "metadata": {
    "collapsed": true
   },
   "outputs": [],
   "source": [
    "import pandas as pd\n",
    "from pandas import Series"
   ]
  },
  {
   "cell_type": "code",
   "execution_count": 250,
   "metadata": {
    "collapsed": true
   },
   "outputs": [],
   "source": [
    "cities = Series([\"Paris06\",\"Choisy-le-Roi\",\"Bagneux\",\"Saint-Ouen\",\"Massy\"],index=[\"75006\",\"94600\",\"92220\",\"93400\",\"91300\"])\n"
   ]
  },
  {
   "cell_type": "code",
   "execution_count": 297,
   "metadata": {
    "collapsed": true
   },
   "outputs": [],
   "source": [
    "data_cities=pd.DataFrame(cities)"
   ]
  },
  {
   "cell_type": "code",
   "execution_count": 258,
   "metadata": {},
   "outputs": [
    {
     "data": {
      "text/plain": [
       "RangeIndex(start=0, stop=1, step=1)"
      ]
     },
     "execution_count": 258,
     "metadata": {},
     "output_type": "execute_result"
    }
   ],
   "source": [
    "data_cities.columns"
   ]
  },
  {
   "cell_type": "code",
   "execution_count": 260,
   "metadata": {
    "collapsed": true
   },
   "outputs": [],
   "source": [
    "data_cities.columns = [\"Ville\"]"
   ]
  },
  {
   "cell_type": "code",
   "execution_count": 265,
   "metadata": {},
   "outputs": [],
   "source": [
    "dt=data_cities.reset_index()"
   ]
  },
  {
   "cell_type": "code",
   "execution_count": 267,
   "metadata": {},
   "outputs": [],
   "source": [
    "dt.columns=[\"Code Postal\",\"Ville\"]"
   ]
  },
  {
   "cell_type": "code",
   "execution_count": 273,
   "metadata": {
    "scrolled": true
   },
   "outputs": [],
   "source": [
    "dt[\"Habitants\"]=[40329,45674,24894,40922,43221]"
   ]
  },
  {
   "cell_type": "code",
   "execution_count": 279,
   "metadata": {},
   "outputs": [
    {
     "data": {
      "text/html": [
       "<div>\n",
       "<style>\n",
       "    .dataframe thead tr:only-child th {\n",
       "        text-align: right;\n",
       "    }\n",
       "\n",
       "    .dataframe thead th {\n",
       "        text-align: left;\n",
       "    }\n",
       "\n",
       "    .dataframe tbody tr th {\n",
       "        vertical-align: top;\n",
       "    }\n",
       "</style>\n",
       "<table border=\"1\" class=\"dataframe\">\n",
       "  <thead>\n",
       "    <tr style=\"text-align: right;\">\n",
       "      <th></th>\n",
       "      <th>Code Postal</th>\n",
       "      <th>Ville</th>\n",
       "      <th>Habitants</th>\n",
       "    </tr>\n",
       "  </thead>\n",
       "  <tbody>\n",
       "    <tr>\n",
       "      <th>0</th>\n",
       "      <td>75006</td>\n",
       "      <td>Paris06</td>\n",
       "      <td>40329</td>\n",
       "    </tr>\n",
       "    <tr>\n",
       "      <th>1</th>\n",
       "      <td>94600</td>\n",
       "      <td>Choisy-le-Roi</td>\n",
       "      <td>45674</td>\n",
       "    </tr>\n",
       "    <tr>\n",
       "      <th>2</th>\n",
       "      <td>92220</td>\n",
       "      <td>Bagneux</td>\n",
       "      <td>24894</td>\n",
       "    </tr>\n",
       "    <tr>\n",
       "      <th>3</th>\n",
       "      <td>93400</td>\n",
       "      <td>Saint-Ouen</td>\n",
       "      <td>40922</td>\n",
       "    </tr>\n",
       "    <tr>\n",
       "      <th>4</th>\n",
       "      <td>91300</td>\n",
       "      <td>Massy</td>\n",
       "      <td>43221</td>\n",
       "    </tr>\n",
       "  </tbody>\n",
       "</table>\n",
       "</div>"
      ],
      "text/plain": [
       "  Code Postal          Ville  Habitants\n",
       "0       75006        Paris06      40329\n",
       "1       94600  Choisy-le-Roi      45674\n",
       "2       92220        Bagneux      24894\n",
       "3       93400     Saint-Ouen      40922\n",
       "4       91300          Massy      43221"
      ]
     },
     "execution_count": 279,
     "metadata": {},
     "output_type": "execute_result"
    }
   ],
   "source": [
    "dt"
   ]
  },
  {
   "cell_type": "code",
   "execution_count": 276,
   "metadata": {},
   "outputs": [],
   "source": [
    "habx = Series([44919,43405,32434,29349,48372],index=[\"75006\",\"94600\",\"92220\",\"93400\",\"91300\"])"
   ]
  },
  {
   "cell_type": "code",
   "execution_count": 281,
   "metadata": {},
   "outputs": [
    {
     "data": {
      "text/html": [
       "<div>\n",
       "<style>\n",
       "    .dataframe thead tr:only-child th {\n",
       "        text-align: right;\n",
       "    }\n",
       "\n",
       "    .dataframe thead th {\n",
       "        text-align: left;\n",
       "    }\n",
       "\n",
       "    .dataframe tbody tr th {\n",
       "        vertical-align: top;\n",
       "    }\n",
       "</style>\n",
       "<table border=\"1\" class=\"dataframe\">\n",
       "  <thead>\n",
       "    <tr style=\"text-align: right;\">\n",
       "      <th></th>\n",
       "      <th>0</th>\n",
       "      <th>1</th>\n",
       "    </tr>\n",
       "  </thead>\n",
       "  <tbody>\n",
       "    <tr>\n",
       "      <th>75006</th>\n",
       "      <td>Paris06</td>\n",
       "      <td>44919</td>\n",
       "    </tr>\n",
       "    <tr>\n",
       "      <th>94600</th>\n",
       "      <td>Choisy-le-Roi</td>\n",
       "      <td>43405</td>\n",
       "    </tr>\n",
       "    <tr>\n",
       "      <th>92220</th>\n",
       "      <td>Bagneux</td>\n",
       "      <td>32434</td>\n",
       "    </tr>\n",
       "    <tr>\n",
       "      <th>93400</th>\n",
       "      <td>Saint-Ouen</td>\n",
       "      <td>29349</td>\n",
       "    </tr>\n",
       "    <tr>\n",
       "      <th>91300</th>\n",
       "      <td>Massy</td>\n",
       "      <td>48372</td>\n",
       "    </tr>\n",
       "  </tbody>\n",
       "</table>\n",
       "</div>"
      ],
      "text/plain": [
       "                   0      1\n",
       "75006        Paris06  44919\n",
       "94600  Choisy-le-Roi  43405\n",
       "92220        Bagneux  32434\n",
       "93400     Saint-Ouen  29349\n",
       "91300          Massy  48372"
      ]
     },
     "execution_count": 281,
     "metadata": {},
     "output_type": "execute_result"
    }
   ],
   "source": [
    "pd.DataFrame([cities,habx]).T"
   ]
  },
  {
   "cell_type": "markdown",
   "metadata": {},
   "source": [
    "Rajouter la colonne Habitants qui recense le nombre d'habitants dans ces villes."
   ]
  },
  {
   "cell_type": "code",
   "execution_count": 302,
   "metadata": {
    "collapsed": true
   },
   "outputs": [],
   "source": [
    "### Votre Code ###\n",
    "dt[\"Habitants\"]=[40329,45674,24894,40922,43221]\n",
    "data_cities[\"Habitants\"]=[40329,45674,24894,40922,43221]\n",
    "##################"
   ]
  },
  {
   "cell_type": "code",
   "execution_count": 303,
   "metadata": {},
   "outputs": [
    {
     "data": {
      "text/html": [
       "<div>\n",
       "<style>\n",
       "    .dataframe thead tr:only-child th {\n",
       "        text-align: right;\n",
       "    }\n",
       "\n",
       "    .dataframe thead th {\n",
       "        text-align: left;\n",
       "    }\n",
       "\n",
       "    .dataframe tbody tr th {\n",
       "        vertical-align: top;\n",
       "    }\n",
       "</style>\n",
       "<table border=\"1\" class=\"dataframe\">\n",
       "  <thead>\n",
       "    <tr style=\"text-align: right;\">\n",
       "      <th></th>\n",
       "      <th>0</th>\n",
       "      <th>Habitants</th>\n",
       "    </tr>\n",
       "  </thead>\n",
       "  <tbody>\n",
       "    <tr>\n",
       "      <th>75006</th>\n",
       "      <td>Paris06</td>\n",
       "      <td>40329</td>\n",
       "    </tr>\n",
       "    <tr>\n",
       "      <th>91300</th>\n",
       "      <td>Massy</td>\n",
       "      <td>43221</td>\n",
       "    </tr>\n",
       "  </tbody>\n",
       "</table>\n",
       "</div>"
      ],
      "text/plain": [
       "             0  Habitants\n",
       "75006  Paris06      40329\n",
       "91300    Massy      43221"
      ]
     },
     "execution_count": 303,
     "metadata": {},
     "output_type": "execute_result"
    }
   ],
   "source": [
    "data_cities.loc[[\"75006\",\"91300\"],]"
   ]
  },
  {
   "cell_type": "code",
   "execution_count": 282,
   "metadata": {},
   "outputs": [
    {
     "data": {
      "text/html": [
       "<div>\n",
       "<style>\n",
       "    .dataframe thead tr:only-child th {\n",
       "        text-align: right;\n",
       "    }\n",
       "\n",
       "    .dataframe thead th {\n",
       "        text-align: left;\n",
       "    }\n",
       "\n",
       "    .dataframe tbody tr th {\n",
       "        vertical-align: top;\n",
       "    }\n",
       "</style>\n",
       "<table border=\"1\" class=\"dataframe\">\n",
       "  <thead>\n",
       "    <tr style=\"text-align: right;\">\n",
       "      <th></th>\n",
       "      <th>Code Postal</th>\n",
       "      <th>Ville</th>\n",
       "      <th>Habitants</th>\n",
       "    </tr>\n",
       "  </thead>\n",
       "  <tbody>\n",
       "    <tr>\n",
       "      <th>0</th>\n",
       "      <td>75006</td>\n",
       "      <td>Paris06</td>\n",
       "      <td>40329</td>\n",
       "    </tr>\n",
       "    <tr>\n",
       "      <th>1</th>\n",
       "      <td>94600</td>\n",
       "      <td>Choisy-le-Roi</td>\n",
       "      <td>45674</td>\n",
       "    </tr>\n",
       "    <tr>\n",
       "      <th>2</th>\n",
       "      <td>92220</td>\n",
       "      <td>Bagneux</td>\n",
       "      <td>24894</td>\n",
       "    </tr>\n",
       "    <tr>\n",
       "      <th>3</th>\n",
       "      <td>93400</td>\n",
       "      <td>Saint-Ouen</td>\n",
       "      <td>40922</td>\n",
       "    </tr>\n",
       "    <tr>\n",
       "      <th>4</th>\n",
       "      <td>91300</td>\n",
       "      <td>Massy</td>\n",
       "      <td>43221</td>\n",
       "    </tr>\n",
       "  </tbody>\n",
       "</table>\n",
       "</div>"
      ],
      "text/plain": [
       "  Code Postal          Ville  Habitants\n",
       "0       75006        Paris06      40329\n",
       "1       94600  Choisy-le-Roi      45674\n",
       "2       92220        Bagneux      24894\n",
       "3       93400     Saint-Ouen      40922\n",
       "4       91300          Massy      43221"
      ]
     },
     "execution_count": 282,
     "metadata": {},
     "output_type": "execute_result"
    }
   ],
   "source": [
    "dt"
   ]
  },
  {
   "cell_type": "markdown",
   "metadata": {},
   "source": [
    "Pour faire de la sélection sur un dataframe, il faut utiliser .loc : "
   ]
  },
  {
   "cell_type": "code",
   "execution_count": 296,
   "metadata": {},
   "outputs": [
    {
     "data": {
      "text/html": [
       "<div>\n",
       "<style>\n",
       "    .dataframe thead tr:only-child th {\n",
       "        text-align: right;\n",
       "    }\n",
       "\n",
       "    .dataframe thead th {\n",
       "        text-align: left;\n",
       "    }\n",
       "\n",
       "    .dataframe tbody tr th {\n",
       "        vertical-align: top;\n",
       "    }\n",
       "</style>\n",
       "<table border=\"1\" class=\"dataframe\">\n",
       "  <thead>\n",
       "    <tr style=\"text-align: right;\">\n",
       "      <th></th>\n",
       "      <th>Code Postal</th>\n",
       "      <th>Ville</th>\n",
       "      <th>Habitants</th>\n",
       "    </tr>\n",
       "  </thead>\n",
       "  <tbody>\n",
       "    <tr>\n",
       "      <th>3</th>\n",
       "      <td>93400</td>\n",
       "      <td>Saint-Ouen</td>\n",
       "      <td>40922</td>\n",
       "    </tr>\n",
       "    <tr>\n",
       "      <th>4</th>\n",
       "      <td>91300</td>\n",
       "      <td>Massy</td>\n",
       "      <td>43221</td>\n",
       "    </tr>\n",
       "  </tbody>\n",
       "</table>\n",
       "</div>"
      ],
      "text/plain": [
       "  Code Postal       Ville  Habitants\n",
       "3       93400  Saint-Ouen      40922\n",
       "4       91300       Massy      43221"
      ]
     },
     "execution_count": 296,
     "metadata": {},
     "output_type": "execute_result"
    }
   ],
   "source": [
    "dt.loc[3:5,:]"
   ]
  },
  {
   "cell_type": "code",
   "execution_count": 305,
   "metadata": {
    "collapsed": true
   },
   "outputs": [],
   "source": [
    "from sklearn.datasets import load_iris\n",
    "data = load_iris()"
   ]
  },
  {
   "cell_type": "code",
   "execution_count": 307,
   "metadata": {
    "collapsed": true
   },
   "outputs": [],
   "source": [
    "dico={\"data_ville\": dt,\"Age\":24,\"Code Postal\":75006}"
   ]
  },
  {
   "cell_type": "code",
   "execution_count": 309,
   "metadata": {},
   "outputs": [
    {
     "data": {
      "text/html": [
       "<div>\n",
       "<style>\n",
       "    .dataframe thead tr:only-child th {\n",
       "        text-align: right;\n",
       "    }\n",
       "\n",
       "    .dataframe thead th {\n",
       "        text-align: left;\n",
       "    }\n",
       "\n",
       "    .dataframe tbody tr th {\n",
       "        vertical-align: top;\n",
       "    }\n",
       "</style>\n",
       "<table border=\"1\" class=\"dataframe\">\n",
       "  <thead>\n",
       "    <tr style=\"text-align: right;\">\n",
       "      <th></th>\n",
       "      <th>Code Postal</th>\n",
       "      <th>Ville</th>\n",
       "      <th>Habitants</th>\n",
       "    </tr>\n",
       "  </thead>\n",
       "  <tbody>\n",
       "    <tr>\n",
       "      <th>0</th>\n",
       "      <td>75006</td>\n",
       "      <td>Paris06</td>\n",
       "      <td>40329</td>\n",
       "    </tr>\n",
       "    <tr>\n",
       "      <th>1</th>\n",
       "      <td>94600</td>\n",
       "      <td>Choisy-le-Roi</td>\n",
       "      <td>45674</td>\n",
       "    </tr>\n",
       "    <tr>\n",
       "      <th>2</th>\n",
       "      <td>92220</td>\n",
       "      <td>Bagneux</td>\n",
       "      <td>24894</td>\n",
       "    </tr>\n",
       "    <tr>\n",
       "      <th>3</th>\n",
       "      <td>93400</td>\n",
       "      <td>Saint-Ouen</td>\n",
       "      <td>40922</td>\n",
       "    </tr>\n",
       "    <tr>\n",
       "      <th>4</th>\n",
       "      <td>91300</td>\n",
       "      <td>Massy</td>\n",
       "      <td>43221</td>\n",
       "    </tr>\n",
       "  </tbody>\n",
       "</table>\n",
       "</div>"
      ],
      "text/plain": [
       "  Code Postal          Ville  Habitants\n",
       "0       75006        Paris06      40329\n",
       "1       94600  Choisy-le-Roi      45674\n",
       "2       92220        Bagneux      24894\n",
       "3       93400     Saint-Ouen      40922\n",
       "4       91300          Massy      43221"
      ]
     },
     "execution_count": 309,
     "metadata": {},
     "output_type": "execute_result"
    }
   ],
   "source": [
    "dico[\"data_ville\"]"
   ]
  },
  {
   "cell_type": "markdown",
   "metadata": {},
   "source": [
    "En observant data, essayer d'extraire les variables explicatives et la stocker sous X, ainsi que la variable expliquée et la stocker sous y."
   ]
  },
  {
   "cell_type": "code",
   "execution_count": 161,
   "metadata": {
    "collapsed": true
   },
   "outputs": [],
   "source": [
    "#### Votre Code #####\n",
    "X=data[\"data\"]\n",
    "y=data[\"target\"]\n",
    "#####################"
   ]
  },
  {
   "cell_type": "markdown",
   "metadata": {},
   "source": [
    "Créer un dataframe composé de X et y."
   ]
  },
  {
   "cell_type": "code",
   "execution_count": 360,
   "metadata": {
    "collapsed": true
   },
   "outputs": [],
   "source": [
    "#### Votre Code #####\n",
    "iris=pd.DataFrame(X)\n",
    "iris[\"target\"]=y\n",
    "#####################"
   ]
  },
  {
   "cell_type": "markdown",
   "metadata": {},
   "source": [
    "Aller chercher aussi le noms des variables pour renommer votre dataframe."
   ]
  },
  {
   "cell_type": "code",
   "execution_count": 365,
   "metadata": {},
   "outputs": [],
   "source": [
    "#### Votre Code #####\n",
    "iris.columns=data['feature_names']+[\"target\"]\n",
    "#####################"
   ]
  },
  {
   "cell_type": "code",
   "execution_count": 367,
   "metadata": {
    "scrolled": true
   },
   "outputs": [],
   "source": [
    "iris[\"target\"]=iris[\"target\"].apply(lambda x : \"setosa\" if x==0 else \"versicolor\" if x==1 else \"virginica\")"
   ]
  },
  {
   "cell_type": "markdown",
   "metadata": {},
   "source": [
    "Sauvegarder ce dataframe sous iris.txt avec un séparateur tabulation."
   ]
  },
  {
   "cell_type": "code",
   "execution_count": 380,
   "metadata": {
    "collapsed": true
   },
   "outputs": [],
   "source": [
    "iris.to_csv(\"iris.txt\",sep=\"\\t\",index=False)"
   ]
  },
  {
   "cell_type": "markdown",
   "metadata": {},
   "source": [
    "#### Matplotlib"
   ]
  },
  {
   "cell_type": "markdown",
   "metadata": {},
   "source": [
    "Matplotlib est le package référence pour la visualisation. Il dispose d'une API appelé pyplot qui génère des graphiques avec des instructions hiérarchisées. Vous verrez que les instructions sont assez intuitives à comprendre. Içi nous présentons quelques exemples de graphiques possibles.  "
   ]
  },
  {
   "cell_type": "code",
   "execution_count": 382,
   "metadata": {
    "collapsed": true
   },
   "outputs": [],
   "source": [
    "from matplotlib import pyplot as plt"
   ]
  },
  {
   "cell_type": "code",
   "execution_count": 383,
   "metadata": {
    "collapsed": true
   },
   "outputs": [],
   "source": [
    "#Pour intégrer les graphes à votre notebook, il suffit de faire\n",
    "%matplotlib inline"
   ]
  },
  {
   "cell_type": "code",
   "execution_count": 415,
   "metadata": {
    "collapsed": true
   },
   "outputs": [
    {
     "data": {
      "text/plain": [
       "[<matplotlib.lines.Line2D at 0x11d009a58>]"
      ]
     },
     "execution_count": 415,
     "metadata": {},
     "output_type": "execute_result"
    },
    {
     "data": {
      "image/png": "[encoded data removed]",
      "text/plain": [
       "<matplotlib.figure.Figure at 0x11ce7a5c0>"
      ]
     },
     "metadata": {},
     "output_type": "display_data"
    }
   ],
   "source": [
    "from numpy import random\n",
    "import numpy as np\n",
    "import pandas as pd\n",
    "\n",
    "plt.figure(figsize=(8,8))\n",
    "random.seed(2)\n",
    "plt.plot([random.random_sample(1) for i in range(5)])\n",
    "#Il est possible de passer des listes, des arrays de numpy, des Series et des Dataframes de pandas\n",
    "plt.plot(np.array([random.random_sample(1) for i in range(5)]))\n",
    "plt.plot(pd.DataFrame(np.array([random.random_sample(1) for i in range(5)])))\n",
    "#pour afficher plusieurs courbes, il suffit de cumuler les instructions plt.plot"
   ]
  },
  {
   "cell_type": "code",
   "execution_count": 460,
   "metadata": {},
   "outputs": [
    {
     "data": {
      "text/plain": [
       "[<matplotlib.lines.Line2D at 0x1182d0518>]"
      ]
     },
     "execution_count": 460,
     "metadata": {},
     "output_type": "execute_result"
    },
    {
     "data": {
      "image/png": "[encoded data removed]",
      "text/plain": [
       "<matplotlib.figure.Figure at 0x1294ea748>"
      ]
     },
     "metadata": {},
     "output_type": "display_data"
    }
   ],
   "source": [
    "from numpy.random import randn\n",
    "\n",
    "fig = plt.figure(figsize=(15,4))\n",
    "ax1 = fig.add_subplot(1,3,1)\n",
    "ax2 = fig.add_subplot(1,3,2)\n",
    "ax3 = fig.add_subplot(1,3,3)\n",
    "\n",
    "# On peut compléter les instances de sous graphiques par leur contenu.\n",
    "# Au passage, quelques autres exemples de graphes\n",
    "ax1.hist(randn(100000),bins=100,color='g',alpha=1)\n",
    "ax2.scatter(np.arange(30),np.arange(30)+3*randn(30))\n",
    "ax3.plot(randn(50).cumsum(),color=\"r\",alpha=0.3)"
   ]
  },
  {
   "cell_type": "code",
   "execution_count": 461,
   "metadata": {
    "collapsed": true
   },
   "outputs": [
    {
     "data": {
      "text/plain": [
       "[<matplotlib.lines.Line2D at 0x129a03d30>]"
      ]
     },
     "execution_count": 461,
     "metadata": {},
     "output_type": "execute_result"
    },
    {
     "data": {
      "image/png": "[encoded data removed]",
      "text/plain": [
       "<matplotlib.figure.Figure at 0x119df2a20>"
      ]
     },
     "metadata": {},
     "output_type": "display_data"
    }
   ],
   "source": [
    "from numpy.random import randn\n",
    "\n",
    "fig = plt.figure(figsize=(8,6))\n",
    "ax1 = fig.add_subplot(1,1,1)\n",
    "ax1.plot(randn(50).cumsum(),color='g',marker='o',linestyle='dashed')"
   ]
  },
  {
   "cell_type": "code",
   "execution_count": 500,
   "metadata": {},
   "outputs": [
    {
     "data": {
      "text/plain": [
       "<matplotlib.text.Text at 0x12147cfd0>"
      ]
     },
     "execution_count": 500,
     "metadata": {},
     "output_type": "execute_result"
    },
    {
     "data": {
      "image/png": "[encoded data removed]",
      "text/plain": [
       "<matplotlib.figure.Figure at 0x1212f34e0>"
      ]
     },
     "metadata": {},
     "output_type": "display_data"
    }
   ],
   "source": [
    "from numpy.random import randn\n",
    "\n",
    "fig = plt.figure(figsize=(8,6))\n",
    "ax1 = fig.add_subplot(1,1,1)\n",
    "random.seed(2)\n",
    "ax1.plot(randn(21).cumsum(),color='#33CCFF',marker='o',linestyle='-.',label='un')\n",
    "ax1.plot(randn(21).cumsum(),color='#FF33CC',marker='o',linestyle='-.',label='deux')\n",
    "ax1.plot(randn(21).cumsum(),color='#FFCC99',marker='o',linestyle='-.',label='trois')\n",
    "\n",
    "ax1.set_xlim([0,21])\n",
    "ax1.set_ylim([-10,10])\n",
    "ax1.set_xticks(range(0,21,2))\n",
    "ax1.set_xticklabels([\"j +\" + str(l) for l in range(0,21,2)])\n",
    "ax1.set_xlabel('Durée après le traitement')\n",
    "ax1.set_ylabel(\"cumsum\")\n",
    "ax1.annotate(\"ici\", xy=(6, 2), #point de départ de la flèche\n",
    "             xytext=(5, 9),          #position du texte\n",
    "            arrowprops=dict(facecolor='#000000', shrink=0.3),\n",
    "            )\n",
    "\n",
    "ax1.legend(loc='best') #permet de mettre la légende dans l'endroit le plus vide\n",
    "\n",
    "plt.title(\"cumsum by day\")\n",
    "plt.text(5, -8, r'$\\frac{e^x}{w}$')\n",
    "\n",
    "# plt.show()"
   ]
  },
  {
   "cell_type": "markdown",
   "metadata": {},
   "source": [
    "## Exercices (3H)"
   ]
  },
  {
   "cell_type": "markdown",
   "metadata": {},
   "source": [
    "### Premier exercice (numpy only)"
   ]
  },
  {
   "cell_type": "markdown",
   "metadata": {},
   "source": [
    "Questions : \n",
    "- Téléchargez les données de \"data/data_C1.txt\" en les stockant dans un array.\n",
    "- Donnez le shape de cet array.\n",
    "- À quoi peuvent correspondre les 2 lignes de cet array ? Redimensionnez-le sous le format standard (observations,variables). \n",
    "- Calculez les estimateurs des Moindres Carrés Ordinaires en supposant que la première ligne (Y) est régressée sur la seconde (X).\n",
    "- Effectuez un test de significativité pour le coefficient de X, donnez la p-value."
   ]
  },
  {
   "cell_type": "markdown",
   "metadata": {},
   "source": [
    "Rappel 1 : On minimise la somme des résidus au carré sous les paramètres, pour obtenir les estimateurs des MCO."
   ]
  },
  {
   "cell_type": "markdown",
   "metadata": {},
   "source": [
    "\\begin{equation*}\n",
    "min \\sum \\limits_{i=1}^{n} (y_i - \\beta_0 - \\beta_1 x_i)^2 = min f(\\beta_0,\\beta_1)\n",
    "\\end{equation*}\n",
    "\\begin{equation*}\n",
    "\\frac{\\delta f(\\beta_0,\\beta_1)}{\\beta_0} = 0 \\\\\n",
    "\\frac{\\delta f(\\beta_0,\\beta_1)}{\\beta_1} = 0 \n",
    "\\end{equation*}"
   ]
  },
  {
   "cell_type": "markdown",
   "metadata": {},
   "source": [
    "$\\hat{\\beta_0}=134$\n",
    "$\\hat{\\beta_1}=0.54$"
   ]
  },
  {
   "cell_type": "markdown",
   "metadata": {},
   "source": [
    "Rappel 2 : Test de Student pour la significativité du coefficient de X.\n",
    "\n",
    "Il s’agit de comparer $\\hat{\\beta_1}$ donné par les MCO avec 0.\n",
    "Soit X une série de valeurs de taille n, de moyenne m et d’écart-type s. La statistique de test de Student est donné par la formule :\n",
    "\n",
    "$\n",
    "t=\\frac{\\hat{\\beta_1}−0}{s/\\sqrt{df}}\n",
    "$\n",
    "où df = n-1\n",
    "\n",
    "On considère que Z une distribution théorique de notre paramètre $\\beta$ suit une loi de Student de degré de liberté df et on le compare à la statistique de test :\n",
    "\n",
    "\\begin{equation*}\n",
    "p_{val} = \\mathbb{P}(|Z|>t)\\\\\n",
    "<=> p_{val} = \\mathbb{P}(\\{Z>t\\} U \\{Z<-t\\})\\\\\n",
    "<=> p_{val} = 2 \\times \\mathbb{P} (Z > t) \\\\\n",
    "<=> p_{val} = 2 \\times (1 - \\mathbb{P}(Z\\leqslant t))\n",
    "\\end{equation*}"
   ]
  },
  {
   "cell_type": "code",
   "execution_count": 177,
   "metadata": {
    "collapsed": true
   },
   "outputs": [],
   "source": [
    "import numpy as np"
   ]
  },
  {
   "cell_type": "code",
   "execution_count": 502,
   "metadata": {
    "collapsed": true
   },
   "outputs": [],
   "source": [
    "data=np.loadtxt(\"../data/data_C1.txt\")\n",
    "data=np.transpose(data)\n",
    "y=data[:,0]\n",
    "x=data[:,1]"
   ]
  },
  {
   "cell_type": "markdown",
   "metadata": {},
   "source": [
    "\\begin{equation*}\n",
    "\\beta_1 = \\frac{\\sum \\limits_{i=1}^{i=n} x_i y_i - \\bar{Y}\\times \\sum \\limits_{i=1}^{i=n} x_i}{\\sum \\limits_{i=1}^{i=n} x_i^2 - n \\times \\bar{X}^2}\n",
    "\\end{equation*}"
   ]
  },
  {
   "cell_type": "code",
   "execution_count": 503,
   "metadata": {
    "collapsed": true
   },
   "outputs": [],
   "source": [
    "def coef_estim(x,y):\n",
    "    numérateur = np.sum(x*y) - np.mean(y)*np.sum(x)\n",
    "    dénominateur = np.sum(x**2)-len(x)*np.mean(x)**2\n",
    "    return (numérateur/dénominateur)"
   ]
  },
  {
   "cell_type": "markdown",
   "metadata": {},
   "source": [
    "\\begin{equation*}\n",
    "\\beta_0 = \\bar{Y} - \\beta_1 \\times \\bar{X}\n",
    "\\end{equation*}"
   ]
  },
  {
   "cell_type": "code",
   "execution_count": 504,
   "metadata": {
    "collapsed": true
   },
   "outputs": [],
   "source": [
    "def intercept_estim(x,y,coef):\n",
    "    return np.mean(y)-coef*np.mean(x)"
   ]
  },
  {
   "cell_type": "code",
   "execution_count": 505,
   "metadata": {
    "collapsed": true
   },
   "outputs": [],
   "source": [
    "from sklearn.linear_model import LinearRegression"
   ]
  },
  {
   "cell_type": "code",
   "execution_count": 523,
   "metadata": {},
   "outputs": [
    {
     "name": "stdout",
     "output_type": "stream",
     "text": [
      "coef : 0.5384014070744577\n",
      "intercept : 134.5299003322259\n"
     ]
    }
   ],
   "source": [
    "lr=LinearRegression()\n",
    "lr.fit(x.reshape(12,1),y)\n",
    "print(\"coef : \"+str(lr.coef_[0]))\n",
    "print(\"intercept : \"+str(lr.intercept_))"
   ]
  },
  {
   "cell_type": "code",
   "execution_count": 525,
   "metadata": {},
   "outputs": [],
   "source": [
    "new_persons=np.array([45,50,53,60,75,80,85])"
   ]
  },
  {
   "cell_type": "code",
   "execution_count": 528,
   "metadata": {},
   "outputs": [
    {
     "data": {
      "text/plain": [
       "array([158.75796365, 161.44997069, 163.06517491, 166.83398476,\n",
       "       174.91000586, 177.6020129 , 180.29401993])"
      ]
     },
     "execution_count": 528,
     "metadata": {},
     "output_type": "execute_result"
    }
   ],
   "source": [
    "lr.predict(new_persons.reshape(new_persons.shape[0],1))"
   ]
  },
  {
   "cell_type": "code",
   "execution_count": 526,
   "metadata": {},
   "outputs": [
    {
     "data": {
      "text/plain": [
       "array([158.75796365, 161.44997069, 163.06517491, 166.83398476,\n",
       "       174.91000586, 177.6020129 , 180.29401993])"
      ]
     },
     "execution_count": 526,
     "metadata": {},
     "output_type": "execute_result"
    }
   ],
   "source": [
    "lr.intercept_+lr.coef_[0]*new_persons"
   ]
  },
  {
   "cell_type": "code",
   "execution_count": 181,
   "metadata": {
    "collapsed": true
   },
   "outputs": [],
   "source": [
    "from scipy import stats"
   ]
  },
  {
   "cell_type": "code",
   "execution_count": 539,
   "metadata": {
    "collapsed": true
   },
   "outputs": [],
   "source": [
    "##Votre Code##\n",
    "coef = coef_estim(x,y)\n",
    "intercept = intercept_estim(x,y,coef)\n",
    "t=coef/((np.std(x))/np.sqrt(len(x)-1))\n",
    "p_value = 2*(1-stats.t.cdf(t,df=len(x)-1))\n",
    "###Fin du Code###\n"
   ]
  },
  {
   "cell_type": "code",
   "execution_count": 540,
   "metadata": {},
   "outputs": [
    {
     "data": {
      "text/plain": [
       "0.8836512172186581"
      ]
     },
     "execution_count": 540,
     "metadata": {},
     "output_type": "execute_result"
    }
   ],
   "source": [
    "p_value"
   ]
  },
  {
   "cell_type": "code",
   "execution_count": 183,
   "metadata": {},
   "outputs": [
    {
     "name": "stdout",
     "output_type": "stream",
     "text": [
      "Bravo !\n"
     ]
    }
   ],
   "source": [
    "if np.round(coef,2)==0.54 and np.round(intercept,2)==134.53 and np.round(p_value,2)==0.88:\n",
    "    print(\"Bravo !\")\n",
    "else:\n",
    "    print(\"Essaye encore\")"
   ]
  },
  {
   "cell_type": "markdown",
   "metadata": {},
   "source": [
    "Il est possible de faire l'exercice avec des fonctions intégrées de Python."
   ]
  },
  {
   "cell_type": "code",
   "execution_count": 188,
   "metadata": {
    "collapsed": true
   },
   "outputs": [],
   "source": [
    "from sklearn.linear_model import LinearRegression"
   ]
  },
  {
   "cell_type": "markdown",
   "metadata": {},
   "source": [
    "### Deuxième exercice"
   ]
  },
  {
   "cell_type": "markdown",
   "metadata": {},
   "source": [
    "Construisez un échiquier de 2 façons différentes : \n",
    "- Avec une indexation astucieuse (Essayer \"::2\" pour sauter un pas).\n",
    "- Avec la fonction tile.\n"
   ]
  },
  {
   "cell_type": "code",
   "execution_count": 568,
   "metadata": {},
   "outputs": [
    {
     "name": "stdout",
     "output_type": "stream",
     "text": [
      "Bravo !\n"
     ]
    }
   ],
   "source": [
    "##Votre Code##\n",
    "echiquier_1 = np.zeros((8,8),dtype=int)\n",
    "echiquier_1[0::2,0::2]=1\n",
    "echiquier_1[1::2,1::2]=1\n",
    "###Fin du Code###\n",
    "\n",
    "if np.array_equal(echiquier_1,np.array(\n",
    "[[1,0,1,0,1,0,1,0],\n",
    " [0,1,0,1,0,1,0,1],\n",
    " [1,0,1,0,1,0,1,0],\n",
    " [0,1,0,1,0,1,0,1],\n",
    " [1,0,1,0,1,0,1,0],\n",
    " [0,1,0,1,0,1,0,1],\n",
    " [1,0,1,0,1,0,1,0],\n",
    " [0,1,0,1,0,1,0,1]])):\n",
    "    print(\"Bravo !\")\n",
    "else:\n",
    "    print(\"Essaye encore\")"
   ]
  },
  {
   "cell_type": "code",
   "execution_count": 569,
   "metadata": {},
   "outputs": [
    {
     "name": "stdout",
     "output_type": "stream",
     "text": [
      "Bravo !\n"
     ]
    }
   ],
   "source": [
    "##Votre Code##\n",
    "echiquier_2 = np.tile([[1,0],[0,1]],(4,4))\n",
    "###Fin du Code###\n",
    "\n",
    "if np.array_equal(echiquier_2,np.array(\n",
    "[[1,0,1,0,1,0,1,0],\n",
    " [0,1,0,1,0,1,0,1],\n",
    " [1,0,1,0,1,0,1,0],\n",
    " [0,1,0,1,0,1,0,1],\n",
    " [1,0,1,0,1,0,1,0],\n",
    " [0,1,0,1,0,1,0,1],\n",
    " [1,0,1,0,1,0,1,0],\n",
    " [0,1,0,1,0,1,0,1]])):\n",
    "    print(\"Bravo !\")\n",
    "else:\n",
    "    print(\"Essaye encore\")"
   ]
  },
  {
   "cell_type": "markdown",
   "metadata": {},
   "source": [
    "### Troisième exercice"
   ]
  },
  {
   "cell_type": "markdown",
   "metadata": {},
   "source": [
    "Les dictionnaires en Python sont une bonne méthode pour stocker plusieurs dataframes, il suffit de donner une clef à un dataframe. Exemple : dico={} dico[\"dataframe1\"]=df1"
   ]
  },
  {
   "cell_type": "markdown",
   "metadata": {},
   "source": [
    "Utiliser un dictionnaire de dataframes pour faire l'exercice suivant :"
   ]
  },
  {
   "cell_type": "markdown",
   "metadata": {},
   "source": [
    "Créer une boucle qui utilise la fonction read_csv de pandas avec iterator et chunksize pour charger des blocs de 50 lignes à la fois sur iris.txt."
   ]
  },
  {
   "cell_type": "code",
   "execution_count": 573,
   "metadata": {
    "scrolled": false
   },
   "outputs": [],
   "source": [
    "### Votre code ###\n",
    "dico={}\n",
    "i=1\n",
    "for df in pd.read_csv(\"iris.txt\",sep=\"\\t\",iterator=True,chunksize=50):\n",
    "    dico[\"dataframe_\"+str(i)]=df\n",
    "    i+=1\n",
    "##################"
   ]
  },
  {
   "cell_type": "markdown",
   "metadata": {},
   "source": [
    "Fusionner les 3 dataframes pour n'en avoir plus qu'un : iris_final. Ps : il y a une fonction de concaténation dans pandas. "
   ]
  },
  {
   "cell_type": "code",
   "execution_count": 580,
   "metadata": {},
   "outputs": [],
   "source": [
    "### Votre code ###\n",
    "iris_final=pd.concat([dico[\"dataframe_1\"],dico[\"dataframe_2\"],dico[\"dataframe_3\"]])\n",
    "##################"
   ]
  },
  {
   "cell_type": "markdown",
   "metadata": {},
   "source": [
    "Vérifier que la forme du dataset est bien (150,5)."
   ]
  },
  {
   "cell_type": "code",
   "execution_count": 581,
   "metadata": {},
   "outputs": [
    {
     "data": {
      "text/plain": [
       "(150, 5)"
      ]
     },
     "execution_count": 581,
     "metadata": {},
     "output_type": "execute_result"
    }
   ],
   "source": [
    "### Votre code ###\n",
    "iris_final.shape\n",
    "##################"
   ]
  },
  {
   "cell_type": "markdown",
   "metadata": {},
   "source": [
    "#### EXERCICE A RENDRE"
   ]
  },
  {
   "cell_type": "markdown",
   "metadata": {},
   "source": [
    "Sur un notebook à part, présenter moi 3 graphiques que vous jugez intéressant à partir de ce dataset,\n",
    "vous appelerez le notebook iris_nom_prenom.pynb. Date limite de rendu : 13/02."
   ]
  },
  {
   "cell_type": "markdown",
   "metadata": {},
   "source": [
    "### Quatrième exercice"
   ]
  },
  {
   "cell_type": "markdown",
   "metadata": {},
   "source": [
    "Une marche aléatoire Y est un processus stochastique tel que :\n",
    "\\begin{equation*}\n",
    "Y_0 = 0\\\\\n",
    "Y_n =\\sum \\limits_{i=1}^{n} X_i \\text{  , pour tout n>0}\n",
    "\\end{equation*}\n",
    "où $X_i$ suit une Bernouilli sur le support {-1,1}.<br>\n",
    "\n",
    "Questions :\n",
    "- Simulez 10 marches aléatoires de taille n=1000, et de pas +1 ou -1 équiprobables.\n",
    "- Utilisez matplotlib pour ploter les 10 marches aléatoires.\n",
    "- Légendez les abscisses, ordonnées.\n",
    "- Donnez le titre \"A Random Walk\" au graphique.  \n",
    "- Donnez la plus haute et la plus petite valeur pour ses 10 marches. \n",
    "- Moyenne d'étapes pour dépasser la valeur 20 sur ces marches ?"
   ]
  },
  {
   "cell_type": "code",
   "execution_count": 609,
   "metadata": {
    "collapsed": true
   },
   "outputs": [],
   "source": [
    "np.random.seed(26)\n",
    "##Votre Code##\n",
    "n_walks = 10\n",
    "n_steps = 1000\n",
    "steps = np.random.randint(0, 2, (n_walks, n_steps))\n",
    "steps = 2*steps-1\n",
    "steps2 = np.random.choice([-1,1],(10,1000))\n",
    "walks = np.cumsum(steps, axis=1)\n",
    "###Fin du Code###"
   ]
  },
  {
   "cell_type": "code",
   "execution_count": 616,
   "metadata": {},
   "outputs": [
    {
     "data": {
      "text/plain": [
       "(10, 1000)"
      ]
     },
     "execution_count": 616,
     "metadata": {},
     "output_type": "execute_result"
    }
   ],
   "source": [
    "walks.shape"
   ]
  },
  {
   "cell_type": "code",
   "execution_count": 620,
   "metadata": {},
   "outputs": [],
   "source": [
    "hits_the_bound = np.any(np.abs(walks)> bound, axis=1) "
   ]
  },
  {
   "cell_type": "code",
   "execution_count": 622,
   "metadata": {},
   "outputs": [
    {
     "data": {
      "text/plain": [
       "8"
      ]
     },
     "execution_count": 622,
     "metadata": {},
     "output_type": "execute_result"
    }
   ],
   "source": [
    "hits_the_bound.sum()"
   ]
  },
  {
   "cell_type": "code",
   "execution_count": 639,
   "metadata": {},
   "outputs": [
    {
     "data": {
      "text/plain": [
       "array([914, 166,  58])"
      ]
     },
     "execution_count": 639,
     "metadata": {},
     "output_type": "execute_result"
    }
   ],
   "source": [
    "(walks[hits_the_bound,:]>bound).argmax(axis=1)"
   ]
  },
  {
   "cell_type": "code",
   "execution_count": 640,
   "metadata": {},
   "outputs": [
    {
     "data": {
      "text/plain": [
       "array([[ 1,  2,  3, ..., 14, 13, 12],\n",
       "       [ 1,  2,  1, ...,  8,  7,  8],\n",
       "       [-1,  0,  1, ..., 38, 39, 40]])"
      ]
     },
     "execution_count": 640,
     "metadata": {},
     "output_type": "execute_result"
    }
   ],
   "source": [
    "walks[hits_the_bound,:]"
   ]
  },
  {
   "cell_type": "code",
   "execution_count": 645,
   "metadata": {},
   "outputs": [
    {
     "data": {
      "text/plain": [
       "array([False, False, False, False, False,  True, False, False,  True,\n",
       "        True])"
      ]
     },
     "execution_count": 645,
     "metadata": {},
     "output_type": "execute_result"
    }
   ],
   "source": [
    "hits_the_bound"
   ]
  },
  {
   "cell_type": "code",
   "execution_count": 648,
   "metadata": {},
   "outputs": [
    {
     "name": "stdout",
     "output_type": "stream",
     "text": [
      "Highest position:40 \t Lowest position:-94\n",
      "Number of walks over bound(=20):3\n",
      "Mean crossing time:379.3333333333333\n"
     ]
    },
    {
     "data": {
      "text/plain": [
       "<matplotlib.text.Text at 0x121fc4e10>"
      ]
     },
     "execution_count": 648,
     "metadata": {},
     "output_type": "execute_result"
    },
    {
     "data": {
      "image/png": "[encoded data removed]",
      "text/plain": [
       "<matplotlib.figure.Figure at 0x121f8a2e8>"
      ]
     },
     "metadata": {},
     "output_type": "display_data"
    }
   ],
   "source": [
    "import matplotlib.pyplot as plt\n",
    "plt.plot(walks.transpose())\n",
    "plt.title('A few random walks')\n",
    "# plus haute et plus petite valeur\n",
    "print('Highest position:{max} \\t Lowest position:{min}'.format(max=walks.max(), min=walks.min()))\n",
    "# Combien de marches aléatoires dépassent 20 ?\n",
    "bound = 20\n",
    "hits_the_bound = np.any(walks> bound, axis=1) \n",
    "print('Number of walks over bound(={}):{}'.format(bound, hits_the_bound.sum()))\n",
    "# Moyenne du temps pour dépasser la frontière\n",
    "# On utilise argmax pour obtenir la première valeur de dépassement\n",
    "first_hits = (walks[hits_the_bound,:]>bound).argmax(axis=1)\n",
    "print('Mean crossing time:{}'.format(first_hits.mean()))\n",
    "plt.xlabel(\"pas\")\n",
    "plt.ylabel(\"valeur\")"
   ]
  },
  {
   "cell_type": "code",
   "execution_count": null,
   "metadata": {
    "collapsed": true
   },
   "outputs": [],
   "source": []
  }
 ],
 "metadata": {
  "kernelspec": {
   "display_name": "Python 3",
   "language": "python",
   "name": "python3"
  },
  "language_info": {
   "codemirror_mode": {
    "name": "ipython",
    "version": 3
   },
   "file_extension": ".py",
   "mimetype": "text/x-python",
   "name": "python",
   "nbconvert_exporter": "python",
   "pygments_lexer": "ipython3",
   "version": "3.6.3"
  },
  "toc": {
   "base_numbering": 1,
   "nav_menu": {},
   "number_sections": true,
   "sideBar": true,
   "skip_h1_title": false,
   "title_cell": "Table of Contents",
   "title_sidebar": "Contents",
   "toc_cell": true,
   "toc_position": {},
   "toc_section_display": true,
   "toc_window_display": true
  }
 },
 "nbformat": 4,
 "nbformat_minor": 2
}
