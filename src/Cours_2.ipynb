{
 "cells": [
  {
   "cell_type": "markdown",
   "metadata": {},
   "source": [
    "<h1>Cours 2 : Analyse en Composantes Principales (TP 4-5)<span class=\"tocSkip\"></span></h1> "
   ]
  },
  {
   "cell_type": "markdown",
   "metadata": {
    "toc": true
   },
   "source": [
    "<h1>Table of Contents<span class=\"tocSkip\"></span></h1>\n",
    "<div class=\"toc\"><ul class=\"toc-item\"><li><span><a href=\"#Première-Partie-(2H30)\" data-toc-modified-id=\"Première-Partie-(2H30)-1\"><span class=\"toc-item-num\">1&nbsp;&nbsp;</span>Première Partie (2H30)</a></span><ul class=\"toc-item\"><li><span><a href=\"#Cours\" data-toc-modified-id=\"Cours-1.1\"><span class=\"toc-item-num\">1.1&nbsp;&nbsp;</span>Cours</a></span><ul class=\"toc-item\"><li><span><a href=\"#Formulation-mathématique\" data-toc-modified-id=\"Formulation-mathématique-1.1.1\"><span class=\"toc-item-num\">1.1.1&nbsp;&nbsp;</span>Formulation mathématique</a></span></li><li><span><a href=\"#Place-à-la-pratique-:-cas-simple\" data-toc-modified-id=\"Place-à-la-pratique-:-cas-simple-1.1.2\"><span class=\"toc-item-num\">1.1.2&nbsp;&nbsp;</span>Place à la pratique : cas simple</a></span></li></ul></li><li><span><a href=\"#Exercice\" data-toc-modified-id=\"Exercice-1.2\"><span class=\"toc-item-num\">1.2&nbsp;&nbsp;</span>Exercice</a></span></li></ul></li><li><span><a href=\"#Deuxième-Partie-(2H30)\" data-toc-modified-id=\"Deuxième-Partie-(2H30)-2\"><span class=\"toc-item-num\">2&nbsp;&nbsp;</span>Deuxième Partie (2H30)</a></span><ul class=\"toc-item\"><li><span><a href=\"#Cours\" data-toc-modified-id=\"Cours-2.1\"><span class=\"toc-item-num\">2.1&nbsp;&nbsp;</span>Cours</a></span><ul class=\"toc-item\"><li><span><a href=\"#Récapitulatif-simplifié\" data-toc-modified-id=\"Récapitulatif-simplifié-2.1.1\"><span class=\"toc-item-num\">2.1.1&nbsp;&nbsp;</span>Récapitulatif simplifié</a></span></li><li><span><a href=\"#Implémentation-de-l'ACP-:-cas-simple\" data-toc-modified-id=\"Implémentation-de-l'ACP-:-cas-simple-2.1.2\"><span class=\"toc-item-num\">2.1.2&nbsp;&nbsp;</span>Implémentation de l'ACP : cas simple</a></span></li></ul></li><li><span><a href=\"#Exercice\" data-toc-modified-id=\"Exercice-2.2\"><span class=\"toc-item-num\">2.2&nbsp;&nbsp;</span>Exercice</a></span></li></ul></li></ul></div>"
   ]
  },
  {
   "cell_type": "markdown",
   "metadata": {},
   "source": [
    "Nous allons décortiquer l'ACP que vous avez découvert au premier semestre. <br>\n",
    "Pour cela, la première partie posera les principes mathématiques qui fondent l'ACP puis nous l'appliquerons sur un exemple très simple. <br>\n",
    "Dans la deuxième partie, nous implémenterons cette ACP simplement avec le package numpy introduit dans le cours précédent. <br>\n",
    "Il n'y aura qu'un seul exercice par partie, il sera sur un jeu de données identique, le but est de reproduire le même résultat avec l'ACP entre un package déjà intégré (scikit-learn) et notre propre implémentation. <br>\n"
   ]
  },
  {
   "cell_type": "markdown",
   "metadata": {},
   "source": [
    "# Première Partie (2H30)"
   ]
  },
  {
   "cell_type": "markdown",
   "metadata": {},
   "source": [
    "## Cours"
   ]
  },
  {
   "cell_type": "markdown",
   "metadata": {},
   "source": [
    "Il est important de comprendre les fondements des algorithmes que l'on utilise pour plusieurs raisons :\n",
    "- Déontologie professionnelle <br>\n",
    "- Pouvoir l'expliquer à d'autres personnes <br>\n",
    "- S'amuser avec l'algorithme, effectuer des améliorations, savoir repérer les erreurs et non-sens "
   ]
  },
  {
   "cell_type": "markdown",
   "metadata": {},
   "source": [
    "### Formulation mathématique"
   ]
  },
  {
   "cell_type": "markdown",
   "metadata": {},
   "source": [
    "Notations : <br>\n",
    "\n",
    "- X la matrice centrée des (observations) x (variables explicatives) de taille n x p, où n est le nombre d'observations et p le nombre de variables explicatives. <br>\n",
    "- S la matrice de covariance de X, donc de taille p x p et symétrique. <br>\n",
    "\n",
    "Supposons que p soit très grand et que nous voulons réduire la taille de cette matrice X tout en conservant le maximum d'information (#T). Comment faire ?"
   ]
  },
  {
   "cell_type": "markdown",
   "metadata": {},
   "source": [
    "$\\underline{\\text{Théorème spectral.}}$ Toute matrice symétrique S peut se décomposer en valeur propres positives $(\\lambda_1, ..,\\lambda_p)$ et vecteurs propres $(\\overrightarrow{v_1},..,\\overrightarrow{v_p})$ tel que $\\forall$ i $\\in {1,..,p}$ :<br>\n",
    "\n",
    "\\begin{equation*}\n",
    "S \\overrightarrow{v_i} = \\lambda_i \\overrightarrow{v_i}\n",
    "\\end{equation*}\n",
    "\n",
    "(#T)\n"
   ]
  },
  {
   "cell_type": "markdown",
   "metadata": {},
   "source": [
    "Chaque valeur propre est toujours associée à un vecteur propre, ils marchent en couple. La valeur propre nous donne une idée de la quantité d'information que l'on peut récupérer avec le vecteur propre associé. <br>\n",
    "\n",
    "Si l'on range les vecteurs propres de sorte que les valeurs propres associées soient décroissantes, on peut former une matrice de passage P composée des k \"plus grands\" vecteurs propres, permettant de réduire la dimension p de notre matrice initiale X tout en conservant le maximum de variance possible. Ainsi la nouvelle matrice de taille (n x k) que l'on dénote X' est le produit matriciel de X avec P. <br>\n",
    "(#T)\n",
    "\n"
   ]
  },
  {
   "cell_type": "markdown",
   "metadata": {},
   "source": [
    "### Place à la pratique : cas simple"
   ]
  },
  {
   "cell_type": "markdown",
   "metadata": {},
   "source": [
    "Voici la matrice de variance-covariance estimée sur un dataset avec 100 observations et 3 variables. On souhaite réduire la dimension du dataset pour pouvoir le visualiser en 2 dimensions.\n",
    "\n",
    "\\begin{equation*}\n",
    "S=\\begin{pmatrix} \n",
    "2 & 0 & 0  \\\\\n",
    "0 & 3 & 4 \\\\\n",
    "0 & 4 & 9 \n",
    "\\end{pmatrix}\n",
    "\\end{equation*}\n",
    "\n",
    "1) Trouver les valeurs propres de S. <br>\n",
    "2) Calculer les pourcentages de variance expliqués par chacun des vecteurs propres $\\Big(\\frac{\\lambda_i}{\\sum \\lambda_j}\\Big)$. <br>\n",
    "3) Trouver les vecteurs propres de S et les normaliser. <br>\n",
    "4) Quelle est le maximum de pourcentage de variance expliquée que l'on peut atteindre en utilisant 2 facteurs ?  \n",
    "5) Donner les nouvelles coordonnées dans $R^2$ des observations (2,4,3) et (-1,9,4) avec les 2 facteurs précédents."
   ]
  },
  {
   "cell_type": "markdown",
   "metadata": {},
   "source": [
    "## Exercice"
   ]
  },
  {
   "cell_type": "markdown",
   "metadata": {},
   "source": [
    "- Charger les données de \"data/decathlon_acp.csv\" (Utiliser la fonction read_csv de pandas)\n",
    "- Garder les noms des athlètes dans une variable \"names\".\n",
    "- Enlever les variables : Name, Classement, Competition, Points\n",
    "- Créer une fonction pour normaliser les données (Soustraire la moyenne et diviser par l'écart-type de chaque variable à chaque observation).\n",
    "- Combien il y a-t-il d'observations et de variables ?\n",
    "- Utiliser le package PCA de sklearn.decomposition pour réduire le dataset à 2 facteurs.\n",
    "- Quel est la quantité de variance expliquée avec 2 facteurs.\n",
    "- Proposer des explications à l'éloignement entre  Casarsa et Warners.\n",
    "- Expliquer pourquoi Clay et Karpov sont proches."
   ]
  },
  {
   "cell_type": "code",
   "execution_count": 2,
   "metadata": {
    "collapsed": true
   },
   "outputs": [],
   "source": [
    "import pandas as pd"
   ]
  },
  {
   "cell_type": "code",
   "execution_count": 5,
   "metadata": {
    "collapsed": true
   },
   "outputs": [],
   "source": [
    "dt=pd.read_csv(\"../data/decathlon_acp.csv\",sep=\";\")"
   ]
  },
  {
   "cell_type": "code",
   "execution_count": 10,
   "metadata": {},
   "outputs": [
    {
     "data": {
      "text/plain": [
       "28"
      ]
     },
     "execution_count": 10,
     "metadata": {},
     "output_type": "execute_result"
    }
   ],
   "source": [
    "dt.shape[0]"
   ]
  },
  {
   "cell_type": "code",
   "execution_count": 16,
   "metadata": {},
   "outputs": [
    {
     "data": {
      "text/plain": [
       "28"
      ]
     },
     "execution_count": 16,
     "metadata": {},
     "output_type": "execute_result"
    }
   ],
   "source": [
    "dt[\"Name\"].nunique()"
   ]
  },
  {
   "cell_type": "code",
   "execution_count": 17,
   "metadata": {},
   "outputs": [
    {
     "data": {
      "text/plain": [
       "28"
      ]
     },
     "execution_count": 17,
     "metadata": {},
     "output_type": "execute_result"
    }
   ],
   "source": [
    "len(dt[\"Name\"].drop_duplicates())"
   ]
  },
  {
   "cell_type": "code",
   "execution_count": 18,
   "metadata": {},
   "outputs": [],
   "source": [
    "names=dt.loc[:,\"Name\"]"
   ]
  },
  {
   "cell_type": "code",
   "execution_count": 21,
   "metadata": {},
   "outputs": [],
   "source": [
    "data=dt.drop([\"Name\",\"Classement\",\"Competition\",\"Points\"],axis=1)"
   ]
  },
  {
   "cell_type": "code",
   "execution_count": 27,
   "metadata": {
    "collapsed": true
   },
   "outputs": [],
   "source": [
    "import numpy as np"
   ]
  },
  {
   "cell_type": "code",
   "execution_count": 220,
   "metadata": {
    "collapsed": true
   },
   "outputs": [],
   "source": [
    "def standardize_fit_transform(dataset):\n",
    "    dataf=dataset.copy()\n",
    "    fitted_mean=np.mean(dataf,axis=0)\n",
    "    fitted_std=np.std(dataf,axis=0) #ddof for the unbiased std\n",
    "    numerateur=dataset-fitted_mean\n",
    "    fitted_std=fitted_std.values.reshape(1,len(fitted_std))\n",
    "    dataf=np.divide(dataset-fitted_mean,fitted_std)\n",
    "    return dataf,fitted_mean,fitted_std"
   ]
  },
  {
   "cell_type": "code",
   "execution_count": 221,
   "metadata": {},
   "outputs": [],
   "source": [
    "data_scaled,_,_=standardize_fit_transform(data)"
   ]
  },
  {
   "cell_type": "code",
   "execution_count": 222,
   "metadata": {
    "collapsed": true
   },
   "outputs": [
    {
     "data": {
      "text/html": [
       "<div>\n",
       "<style>\n",
       "    .dataframe thead tr:only-child th {\n",
       "        text-align: right;\n",
       "    }\n",
       "\n",
       "    .dataframe thead th {\n",
       "        text-align: left;\n",
       "    }\n",
       "\n",
       "    .dataframe tbody tr th {\n",
       "        vertical-align: top;\n",
       "    }\n",
       "</style>\n",
       "<table border=\"1\" class=\"dataframe\">\n",
       "  <thead>\n",
       "    <tr style=\"text-align: right;\">\n",
       "      <th></th>\n",
       "      <th>100m</th>\n",
       "      <th>Longueur</th>\n",
       "      <th>Poids</th>\n",
       "      <th>Hauteur</th>\n",
       "      <th>400m</th>\n",
       "      <th>110m H</th>\n",
       "      <th>Disque</th>\n",
       "      <th>Perche</th>\n",
       "      <th>Javelot</th>\n",
       "      <th>1500m</th>\n",
       "    </tr>\n",
       "  </thead>\n",
       "  <tbody>\n",
       "    <tr>\n",
       "      <th>0</th>\n",
       "      <td>-0.289664</td>\n",
       "      <td>1.714344</td>\n",
       "      <td>2.063529</td>\n",
       "      <td>1.625467</td>\n",
       "      <td>-1.003534</td>\n",
       "      <td>-1.158385</td>\n",
       "      <td>1.340775</td>\n",
       "      <td>0.942595</td>\n",
       "      <td>2.368119</td>\n",
       "      <td>0.221202</td>\n",
       "    </tr>\n",
       "    <tr>\n",
       "      <th>1</th>\n",
       "      <td>-2.096912</td>\n",
       "      <td>2.072565</td>\n",
       "      <td>0.719559</td>\n",
       "      <td>0.946167</td>\n",
       "      <td>-0.337187</td>\n",
       "      <td>-0.974358</td>\n",
       "      <td>1.769771</td>\n",
       "      <td>0.590693</td>\n",
       "      <td>2.202345</td>\n",
       "      <td>0.400194</td>\n",
       "    </tr>\n",
       "    <tr>\n",
       "      <th>2</th>\n",
       "      <td>-1.832437</td>\n",
       "      <td>1.624789</td>\n",
       "      <td>1.552107</td>\n",
       "      <td>1.285817</td>\n",
       "      <td>-2.247916</td>\n",
       "      <td>-1.342412</td>\n",
       "      <td>2.245060</td>\n",
       "      <td>-0.465014</td>\n",
       "      <td>-0.697666</td>\n",
       "      <td>0.050305</td>\n",
       "    </tr>\n",
       "    <tr>\n",
       "      <th>3</th>\n",
       "      <td>-0.113347</td>\n",
       "      <td>0.609829</td>\n",
       "      <td>1.314236</td>\n",
       "      <td>1.965117</td>\n",
       "      <td>-0.513809</td>\n",
       "      <td>0.014788</td>\n",
       "      <td>1.223496</td>\n",
       "      <td>-1.168818</td>\n",
       "      <td>-0.100063</td>\n",
       "      <td>-1.091106</td>\n",
       "    </tr>\n",
       "    <tr>\n",
       "      <th>4</th>\n",
       "      <td>-1.303486</td>\n",
       "      <td>1.415827</td>\n",
       "      <td>-0.172456</td>\n",
       "      <td>-0.072782</td>\n",
       "      <td>-1.316637</td>\n",
       "      <td>-1.250399</td>\n",
       "      <td>-0.199287</td>\n",
       "      <td>0.590693</td>\n",
       "      <td>-0.728365</td>\n",
       "      <td>0.044909</td>\n",
       "    </tr>\n",
       "  </tbody>\n",
       "</table>\n",
       "</div>"
      ],
      "text/plain": [
       "       100m  Longueur     Poids   Hauteur      400m    110m H    Disque  \\\n",
       "0 -0.289664  1.714344  2.063529  1.625467 -1.003534 -1.158385  1.340775   \n",
       "1 -2.096912  2.072565  0.719559  0.946167 -0.337187 -0.974358  1.769771   \n",
       "2 -1.832437  1.624789  1.552107  1.285817 -2.247916 -1.342412  2.245060   \n",
       "3 -0.113347  0.609829  1.314236  1.965117 -0.513809  0.014788  1.223496   \n",
       "4 -1.303486  1.415827 -0.172456 -0.072782 -1.316637 -1.250399 -0.199287   \n",
       "\n",
       "     Perche   Javelot     1500m  \n",
       "0  0.942595  2.368119  0.221202  \n",
       "1  0.590693  2.202345  0.400194  \n",
       "2 -0.465014 -0.697666  0.050305  \n",
       "3 -1.168818 -0.100063 -1.091106  \n",
       "4  0.590693 -0.728365  0.044909  "
      ]
     },
     "execution_count": 222,
     "metadata": {},
     "output_type": "execute_result"
    }
   ],
   "source": [
    "data_scaled.head()"
   ]
  },
  {
   "cell_type": "code",
   "execution_count": 242,
   "metadata": {
    "collapsed": true
   },
   "outputs": [],
   "source": [
    "from sklearn.decomposition import PCA\n",
    "from sklearn.preprocessing import StandardScaler\n",
    "import matplotlib.pyplot as plt"
   ]
  },
  {
   "cell_type": "code",
   "execution_count": 225,
   "metadata": {},
   "outputs": [],
   "source": [
    "ss=StandardScaler()\n",
    "ss.fit_transform(data)\n",
    "pca=PCA(2,random_state=26)\n",
    "pca.fit(data_scaled)\n",
    "data_pca=np.dot(data_scaled,pca.components_.T)"
   ]
  },
  {
   "cell_type": "code",
   "execution_count": 230,
   "metadata": {},
   "outputs": [
    {
     "data": {
      "text/plain": [
       "array([9.96244972, 7.42689484])"
      ]
     },
     "execution_count": 230,
     "metadata": {},
     "output_type": "execute_result"
    }
   ],
   "source": [
    "pca.singular_values_"
   ]
  },
  {
   "cell_type": "code",
   "execution_count": 232,
   "metadata": {},
   "outputs": [
    {
     "data": {
      "text/plain": [
       "0.5514613267468597"
      ]
     },
     "execution_count": 232,
     "metadata": {},
     "output_type": "execute_result"
    }
   ],
   "source": [
    "pca.explained_variance_ratio_[0]+pca.explained_variance_ratio_[1]"
   ]
  },
  {
   "cell_type": "code",
   "execution_count": 244,
   "metadata": {},
   "outputs": [
    {
     "data": {
      "text/plain": [
       "array([0.35446573, 0.1969956 ])"
      ]
     },
     "execution_count": 244,
     "metadata": {},
     "output_type": "execute_result"
    }
   ],
   "source": [
    "pca.explained_variance_ratio_"
   ]
  },
  {
   "cell_type": "code",
   "execution_count": 229,
   "metadata": {},
   "outputs": [
    {
     "data": {
      "text/plain": [
       "array([[ 3.71379932,  1.53229496],\n",
       "       [ 3.66942412,  0.86944254],\n",
       "       [ 4.27778686,  0.42319201],\n",
       "       [ 1.93986903,  1.36489411],\n",
       "       [ 1.9332924 , -1.72825276]])"
      ]
     },
     "execution_count": 229,
     "metadata": {},
     "output_type": "execute_result"
    }
   ],
   "source": [
    "pca2=PCA(2,random_state=26)\n",
    "pca2.fit(data_scaled)\n",
    "pca2.transform(data_scaled)[:5]"
   ]
  },
  {
   "cell_type": "code",
   "execution_count": 239,
   "metadata": {},
   "outputs": [],
   "source": [
    "def circleOfCorrelations(pc_infos, ebouli):\n",
    "    plt.Circle((0,0),radius=10, color='g', fill=False)\n",
    "    circle1=plt.Circle((0,0),radius=1, color='g', fill=False)\n",
    "    fig = plt.gcf()\n",
    "    fig.gca().add_artist(circle1)\n",
    "    for idx in range(len(pc_infos[\"PC-0\"])):\n",
    "        x = pc_infos[\"PC-0\"][idx]\n",
    "        y = pc_infos[\"PC-1\"][idx]\n",
    "        plt.plot([0.0,x],[0.0,y],'k-')\n",
    "        plt.plot(x, y, 'rx')\n",
    "        plt.annotate(pc_infos.index[idx], xy=(x,y))\n",
    "    plt.xlabel(\"PC-0 (%s%%)\" % str(ebouli[0])[:4].lstrip(\"0.\"))\n",
    "    plt.ylabel(\"PC-1 (%s%%)\" % str(ebouli[1])[:4].lstrip(\"0.\"))\n",
    "    plt.xlim((-1,1))\n",
    "    plt.ylim((-1,1))\n",
    "    plt.title(\"Circle of Correlations\")\n",
    "    plt.show()"
   ]
  },
  {
   "cell_type": "code",
   "execution_count": 240,
   "metadata": {
    "collapsed": true
   },
   "outputs": [],
   "source": [
    "coef=np.transpose(pca.components_)\n",
    "ebouli=pd.Series(pca.explained_variance_ratio_)\n",
    "cols=[\"PC-\"+str(x) for x in range(len(ebouli))]\n",
    "pc_infos=pd.DataFrame(coef,columns=cols,index=data_scaled.columns)"
   ]
  },
  {
   "cell_type": "code",
   "execution_count": 243,
   "metadata": {},
   "outputs": [
    {
     "data": {
      "image/png": "[encoded data removed]",
      "text/plain": [
       "<matplotlib.figure.Figure at 0x112fa02e8>"
      ]
     },
     "metadata": {},
     "output_type": "display_data"
    }
   ],
   "source": [
    "circleOfCorrelations(pc_infos,ebouli)"
   ]
  },
  {
   "cell_type": "code",
   "execution_count": 246,
   "metadata": {
    "collapsed": true
   },
   "outputs": [],
   "source": [
    "from adjustText import adjust_text"
   ]
  },
  {
   "cell_type": "code",
   "execution_count": 269,
   "metadata": {},
   "outputs": [
    {
     "data": {
      "text/html": [
       "<div>\n",
       "<style>\n",
       "    .dataframe thead tr:only-child th {\n",
       "        text-align: right;\n",
       "    }\n",
       "\n",
       "    .dataframe thead th {\n",
       "        text-align: left;\n",
       "    }\n",
       "\n",
       "    .dataframe tbody tr th {\n",
       "        vertical-align: top;\n",
       "    }\n",
       "</style>\n",
       "<table border=\"1\" class=\"dataframe\">\n",
       "  <thead>\n",
       "    <tr style=\"text-align: right;\">\n",
       "      <th></th>\n",
       "      <th>100m</th>\n",
       "      <th>Longueur</th>\n",
       "      <th>Poids</th>\n",
       "      <th>Hauteur</th>\n",
       "      <th>400m</th>\n",
       "      <th>110m H</th>\n",
       "      <th>Disque</th>\n",
       "      <th>Perche</th>\n",
       "      <th>Javelot</th>\n",
       "      <th>1500m</th>\n",
       "    </tr>\n",
       "  </thead>\n",
       "  <tbody>\n",
       "    <tr>\n",
       "      <th>1</th>\n",
       "      <td>10.44</td>\n",
       "      <td>7.96</td>\n",
       "      <td>15.23</td>\n",
       "      <td>2.06</td>\n",
       "      <td>49.19</td>\n",
       "      <td>14.13</td>\n",
       "      <td>50.11</td>\n",
       "      <td>4.9</td>\n",
       "      <td>69.71</td>\n",
       "      <td>282.00</td>\n",
       "    </tr>\n",
       "    <tr>\n",
       "      <th>2</th>\n",
       "      <td>10.50</td>\n",
       "      <td>7.81</td>\n",
       "      <td>15.93</td>\n",
       "      <td>2.09</td>\n",
       "      <td>46.81</td>\n",
       "      <td>13.97</td>\n",
       "      <td>51.65</td>\n",
       "      <td>4.6</td>\n",
       "      <td>55.54</td>\n",
       "      <td>278.11</td>\n",
       "    </tr>\n",
       "  </tbody>\n",
       "</table>\n",
       "</div>"
      ],
      "text/plain": [
       "    100m  Longueur  Poids  Hauteur   400m  110m H  Disque  Perche  Javelot  \\\n",
       "1  10.44      7.96  15.23     2.06  49.19   14.13   50.11     4.9    69.71   \n",
       "2  10.50      7.81  15.93     2.09  46.81   13.97   51.65     4.6    55.54   \n",
       "\n",
       "    1500m  \n",
       "1  282.00  \n",
       "2  278.11  "
      ]
     },
     "execution_count": 269,
     "metadata": {},
     "output_type": "execute_result"
    }
   ],
   "source": [
    "data.loc[[1,2],:]"
   ]
  },
  {
   "cell_type": "code",
   "execution_count": 265,
   "metadata": {
    "collapsed": true
   },
   "outputs": [
    {
     "data": {
      "image/png": "[encoded data removed]",
      "text/plain": [
       "<matplotlib.figure.Figure at 0x1139812e8>"
      ]
     },
     "metadata": {},
     "output_type": "display_data"
    }
   ],
   "source": [
    "plt.plot(data_pca[:,0],data_pca[:,1], 'ro', alpha = 0.1)\n",
    "plt.xlabel(\"PC-1\")\n",
    "plt.ylabel(\"PC-2\")\n",
    "texts = [plt.text(data_pca[i,0], data_pca[i,1], names[i]) for i in range(data_pca.shape[0])]\n",
    "adjust_text(texts)\n",
    "plt.plot([-5,5],[0,0],'k--')\n",
    "plt.plot([0,0],[-5,5],'k--')\n",
    "plt.show()"
   ]
  },
  {
   "cell_type": "markdown",
   "metadata": {},
   "source": [
    "# Deuxième Partie (2H30)"
   ]
  },
  {
   "cell_type": "markdown",
   "metadata": {},
   "source": [
    "## Cours"
   ]
  },
  {
   "cell_type": "markdown",
   "metadata": {},
   "source": [
    "### Récapitulatif simplifié "
   ]
  },
  {
   "cell_type": "markdown",
   "metadata": {},
   "source": [
    "Comment faire une ACP ? \n",
    "- Centrer le dataset\n",
    "- Calculer la matrice de variance-covariance\n",
    "- Calculer les valeurs propres\n",
    "- Calculer les vecteurs propres normées\n",
    "- Créer la matrice de passage\n",
    "- Choisir le nombre adéquat de facteurs\n",
    "- Faire un produit matriciel pour obtenir la nouvelle matrice"
   ]
  },
  {
   "cell_type": "markdown",
   "metadata": {},
   "source": [
    "### Implémentation de l'ACP : cas simple"
   ]
  },
  {
   "cell_type": "code",
   "execution_count": 1,
   "metadata": {
    "collapsed": true
   },
   "outputs": [],
   "source": [
    "import numpy as np"
   ]
  },
  {
   "cell_type": "markdown",
   "metadata": {},
   "source": [
    "Partons du 1.1.2 et implémentons les étapes à partir du calcul des valeurs propres."
   ]
  },
  {
   "cell_type": "markdown",
   "metadata": {
    "collapsed": true
   },
   "source": [
    "Définisons la matrice de variance-covariance S:"
   ]
  },
  {
   "cell_type": "code",
   "execution_count": 2,
   "metadata": {
    "collapsed": true
   },
   "outputs": [],
   "source": [
    "S = np.array([[2,0,0],[0,3,4],[0,4,9]])"
   ]
  },
  {
   "cell_type": "code",
   "execution_count": 3,
   "metadata": {
    "collapsed": true
   },
   "outputs": [],
   "source": [
    "#S_p = np.array([[2,0,0],[0,3,4]])"
   ]
  },
  {
   "cell_type": "markdown",
   "metadata": {},
   "source": [
    "Calculons les valeurs propres et les vecteurs propres sur la matrice de variance covariance centrée S : "
   ]
  },
  {
   "cell_type": "code",
   "execution_count": 4,
   "metadata": {},
   "outputs": [
    {
     "name": "stdout",
     "output_type": "stream",
     "text": [
      "valeurs propres : [11.  1.  2.], \n",
      " Vecteurs propres : [[ 0.          0.          1.        ]\n",
      " [ 0.4472136   0.89442719  0.        ]\n",
      " [ 0.89442719 -0.4472136   0.        ]]\n"
     ]
    }
   ],
   "source": [
    "val_prop,vec_prop=np.linalg.eig(S)\n",
    "print(\"valeurs propres : {}, \\n Vecteurs propres : {}\".format(val_prop,vec_prop))"
   ]
  },
  {
   "cell_type": "code",
   "execution_count": 24,
   "metadata": {},
   "outputs": [
    {
     "data": {
      "text/plain": [
       "array([11.,  1.,  2.])"
      ]
     },
     "execution_count": 24,
     "metadata": {},
     "output_type": "execute_result"
    }
   ],
   "source": [
    "val_prop"
   ]
  },
  {
   "cell_type": "code",
   "execution_count": null,
   "metadata": {
    "collapsed": true
   },
   "outputs": [],
   "source": []
  },
  {
   "cell_type": "code",
   "execution_count": 14,
   "metadata": {
    "collapsed": true
   },
   "outputs": [],
   "source": [
    "def pca_ranked(S,k):\n",
    "    eig_val,eig_vec=np.linalg.eig(S)\n",
    "    eig=[(eig_val[i],eig_vec[:,i]) for i in range(S.shape[0])]\n",
    "    eig.sort(key=lambda x: x[0],reverse=True)\n",
    "    k_eig=np.array([eig[i][0] for i in range(k)])\n",
    "    k_eig_vec=np.column_stack(eig[i][1] for i in range(k))\n",
    "    return k_eig_vec"
   ]
  },
  {
   "cell_type": "markdown",
   "metadata": {},
   "source": [
    "Retrouve-t-on les mêmes vecteurs propres que calculer précedement ?"
   ]
  },
  {
   "cell_type": "markdown",
   "metadata": {},
   "source": [
    "Ecrivez une fonction qui donne les coordonnées dans $R^2$ des observations (2,4,3) et (-1,9,4) avec les 2 \"meilleurs\" facteurs."
   ]
  },
  {
   "cell_type": "code",
   "execution_count": 15,
   "metadata": {},
   "outputs": [
    {
     "data": {
      "text/plain": [
       "array([[0.        , 1.        ],\n",
       "       [0.4472136 , 0.        ],\n",
       "       [0.89442719, 0.        ]])"
      ]
     },
     "execution_count": 15,
     "metadata": {},
     "output_type": "execute_result"
    }
   ],
   "source": [
    "pca_ranked(S,k=2)"
   ]
  },
  {
   "cell_type": "code",
   "execution_count": null,
   "metadata": {
    "collapsed": true
   },
   "outputs": [],
   "source": [
    "sorted()"
   ]
  },
  {
   "cell_type": "code",
   "execution_count": 72,
   "metadata": {
    "collapsed": true
   },
   "outputs": [],
   "source": [
    "tst=[(11,[2,3,5]),(1,[3,4,2]),(2,[2,4,1])]"
   ]
  },
  {
   "cell_type": "code",
   "execution_count": 73,
   "metadata": {},
   "outputs": [],
   "source": [
    "tst.sort(reverse=True)"
   ]
  },
  {
   "cell_type": "code",
   "execution_count": 74,
   "metadata": {},
   "outputs": [
    {
     "data": {
      "text/plain": [
       "[(11, [2, 3, 5]), (2, [2, 4, 1]), (1, [3, 4, 2])]"
      ]
     },
     "execution_count": 74,
     "metadata": {},
     "output_type": "execute_result"
    }
   ],
   "source": [
    "tst"
   ]
  },
  {
   "cell_type": "code",
   "execution_count": 64,
   "metadata": {},
   "outputs": [],
   "source": [
    "P=np.array([tst[0][1],tst[1][1]])"
   ]
  },
  {
   "cell_type": "code",
   "execution_count": 67,
   "metadata": {},
   "outputs": [
    {
     "data": {
      "text/plain": [
       "array([[31, 23],\n",
       "       [45, 38]])"
      ]
     },
     "execution_count": 67,
     "metadata": {},
     "output_type": "execute_result"
    }
   ],
   "source": [
    "np.dot(X,P.T)"
   ]
  },
  {
   "cell_type": "code",
   "execution_count": 30,
   "metadata": {},
   "outputs": [
    {
     "data": {
      "text/plain": [
       "[(11, [2, 3, 5]), (2, [2, 4, 1]), (1, [3, 4, 2])]"
      ]
     },
     "execution_count": 30,
     "metadata": {},
     "output_type": "execute_result"
    }
   ],
   "source": [
    "sorted(tst,reverse=True)"
   ]
  },
  {
   "cell_type": "code",
   "execution_count": 197,
   "metadata": {
    "collapsed": true
   },
   "outputs": [],
   "source": [
    "def new_coord(S,X,k):\n",
    "    val,vec=np.linalg.eig(S)\n",
    "    tst=[(val[i],vec[:,i]) for i in range(X.shape[1])]\n",
    "    tst.sort(reverse=True)\n",
    "    #P_f=np.zeros(shape=(X.shape[1],k))\n",
    "    #for i in range(k):\n",
    "    #    P_f[:,i]=tst[i][1]\n",
    "    P=np.array([tst[:k][i][1] for i in range(k)])\n",
    "    P_f=P.T\n",
    "    print(P_f)\n",
    "    X_prime = np.dot(X,P_f)\n",
    "    if X_prime.shape[1]==k:\n",
    "        return X_prime\n",
    "    else:\n",
    "        print(\"problème\")"
   ]
  },
  {
   "cell_type": "code",
   "execution_count": 153,
   "metadata": {
    "collapsed": true
   },
   "outputs": [],
   "source": [
    "X=np.array([[2,4,3],[-1,9,4]])"
   ]
  },
  {
   "cell_type": "code",
   "execution_count": 19,
   "metadata": {},
   "outputs": [
    {
     "data": {
      "text/plain": [
       "array([[ 4.47213595,  2.        ],\n",
       "       [ 7.60263112, -1.        ]])"
      ]
     },
     "execution_count": 19,
     "metadata": {},
     "output_type": "execute_result"
    }
   ],
   "source": [
    "new_coord(S,X,2)"
   ]
  },
  {
   "cell_type": "markdown",
   "metadata": {},
   "source": [
    "## Exercice"
   ]
  },
  {
   "cell_type": "code",
   "execution_count": 154,
   "metadata": {
    "collapsed": true
   },
   "outputs": [],
   "source": [
    "import pandas as pd"
   ]
  },
  {
   "cell_type": "code",
   "execution_count": 157,
   "metadata": {},
   "outputs": [],
   "source": [
    "data=pd.read_csv(\"../data/decathlon_acp.csv\",sep=\";\")"
   ]
  },
  {
   "cell_type": "code",
   "execution_count": 159,
   "metadata": {},
   "outputs": [],
   "source": [
    "X=data.drop([\"Name\",\"Classement\",\"Competition\",\"Points\"],axis=1)"
   ]
  },
  {
   "cell_type": "code",
   "execution_count": 161,
   "metadata": {},
   "outputs": [],
   "source": [
    "def standardize_fit_transform(dataset):\n",
    "    dataf=dataset.copy()\n",
    "    fitted_mean=np.mean(dataf,axis=0)\n",
    "    fitted_std=np.std(dataf,axis=0) #ddof for the unbiased std\n",
    "    numerateur=dataset-fitted_mean\n",
    "    fitted_std=fitted_std.values.reshape(1,len(fitted_std))\n",
    "    dataf=np.divide(dataset-fitted_mean,fitted_std)\n",
    "    return dataf,fitted_mean,fitted_std"
   ]
  },
  {
   "cell_type": "code",
   "execution_count": 198,
   "metadata": {
    "collapsed": true
   },
   "outputs": [],
   "source": [
    "def ACP(dataframe,k):\n",
    "    df=dataframe.copy()\n",
    "    df_stand,_,_=standardize_fit_transform(df)\n",
    "    S=np.cov(df_stand.T)\n",
    "    #print(S)\n",
    "    return new_coord(S,df_stand,k)"
   ]
  },
  {
   "cell_type": "code",
   "execution_count": 181,
   "metadata": {
    "collapsed": true
   },
   "outputs": [],
   "source": [
    "from sklearn.decomposition import PCA\n",
    "from sklearn.preprocessing import StandardScaler\n",
    "ss=StandardScaler()\n",
    "data_scaled=ss.fit_transform(X)\n",
    "pca=PCA(2,random_state=26)\n",
    "pca.fit(data_scaled)\n",
    "data_pca=np.dot(data_scaled,pca.components_.T)"
   ]
  },
  {
   "cell_type": "code",
   "execution_count": 196,
   "metadata": {},
   "outputs": [
    {
     "data": {
      "text/plain": [
       "array([[-0.42270533,  0.42146649,  0.33407359,  0.33249211, -0.38995573,\n",
       "        -0.37654258,  0.28793579,  0.09539301,  0.15213083, -0.11193576],\n",
       "       [ 0.18068407, -0.23154081,  0.44373197,  0.33625299,  0.35243221,\n",
       "         0.16558589,  0.4754243 , -0.23248607,  0.24151756,  0.33725668]])"
      ]
     },
     "execution_count": 196,
     "metadata": {},
     "output_type": "execute_result"
    }
   ],
   "source": [
    "pca.components_"
   ]
  },
  {
   "cell_type": "code",
   "execution_count": 218,
   "metadata": {
    "collapsed": true
   },
   "outputs": [
    {
     "data": {
      "text/plain": [
       "array([[ 1.03703704, -0.73107965, -0.38338809, -0.32073875,  0.65829574,\n",
       "         0.56265267, -0.24195827, -0.27009843, -0.01212277,  0.06059864],\n",
       "       [-0.73107965,  1.03703704,  0.20269019,  0.35846439, -0.69596712,\n",
       "        -0.55809526,  0.25916512,  0.29563787,  0.09726583, -0.15288628],\n",
       "       [-0.38338809,  0.20269019,  1.03703704,  0.63527053, -0.20668168,\n",
       "        -0.25414653,  0.69043265,  0.02456962,  0.39754097,  0.13434174],\n",
       "       [-0.32073875,  0.35846439,  0.63527053,  1.03703704, -0.1754242 ,\n",
       "        -0.3380302 ,  0.53611008, -0.04395176,  0.21205462, -0.0036256 ],\n",
       "       [ 0.65829574, -0.69596712, -0.20668168, -0.1754242 ,  1.03703704,\n",
       "         0.53913529, -0.14952657, -0.11970333, -0.05667808,  0.57163939],\n",
       "       [ 0.56265267, -0.55809526, -0.25414653, -0.3380302 ,  0.53913529,\n",
       "         1.03703704, -0.22490447, -0.15656649, -0.08277594,  0.18567669],\n",
       "       [-0.24195827,  0.25916512,  0.69043265,  0.53611008, -0.14952657,\n",
       "        -0.22490447,  1.03703704, -0.19103414,  0.26429252,  0.22832608],\n",
       "       [-0.27009843,  0.29563787,  0.02456962, -0.04395176, -0.11970333,\n",
       "        -0.15656649, -0.19103414,  1.03703704, -0.06855311,  0.18611853],\n",
       "       [-0.01212277,  0.09726583,  0.39754097,  0.21205462, -0.05667808,\n",
       "        -0.08277594,  0.26429252, -0.06855311,  1.03703704, -0.26082067],\n",
       "       [ 0.06059864, -0.15288628,  0.13434174, -0.0036256 ,  0.57163939,\n",
       "         0.18567669,  0.22832608,  0.18611853, -0.26082067,  1.03703704]])"
      ]
     },
     "execution_count": 218,
     "metadata": {},
     "output_type": "execute_result"
    }
   ],
   "source": [
    "np.cov(data_scaled.T,bias=0)"
   ]
  },
  {
   "cell_type": "code",
   "execution_count": 215,
   "metadata": {
    "collapsed": true
   },
   "outputs": [
    {
     "data": {
      "text/plain": [
       "array([[ 1.18207649, -0.61244651, -0.31981466, -0.34612752,  0.60315175,\n",
       "         0.53626679, -0.25109468, -0.18617164, -0.13522009,  0.23547693],\n",
       "       [-0.61244651,  1.20947931,  0.28555312,  0.31986052, -0.6278517 ,\n",
       "        -0.54713062,  0.21465445,  0.20308571,  0.11668584, -0.26011476],\n",
       "       [-0.31981466,  0.28555312,  1.21456364,  0.56178909, -0.17457893,\n",
       "        -0.28188325,  0.60598039, -0.05215183,  0.31389679,  0.1029943 ],\n",
       "       [-0.34612752,  0.31986052,  0.56178909,  1.08878292, -0.22802995,\n",
       "        -0.30605042,  0.52989248, -0.01610018,  0.27521514,  0.05056643],\n",
       "       [ 0.60315175, -0.6278517 , -0.17457893, -0.22802995,  1.23353387,\n",
       "         0.53966964, -0.10257976, -0.2348596 , -0.05918018,  0.30878645],\n",
       "       [ 0.53626679, -0.54713062, -0.28188325, -0.30605042,  0.53966964,\n",
       "         1.06026267, -0.22045339, -0.16741472, -0.11881733,  0.21204503],\n",
       "       [-0.25109468,  0.21465445,  0.60598039,  0.52989248, -0.10257976,\n",
       "        -0.22045339,  1.16833035, -0.07653963,  0.30336307,  0.1345967 ],\n",
       "       [-0.18617164,  0.20308571, -0.05215183, -0.01610018, -0.2348596 ,\n",
       "        -0.16741472, -0.07653963,  0.68859102, -0.03715314, -0.14763357],\n",
       "       [-0.13522009,  0.11668584,  0.31389679,  0.27521514, -0.05918018,\n",
       "        -0.11881733,  0.30336307, -0.03715314,  0.73830662,  0.06634649],\n",
       "       [ 0.23547693, -0.26011476,  0.1029943 ,  0.05056643,  0.30878645,\n",
       "         0.21204503,  0.1345967 , -0.14763357,  0.06634649,  0.7864435 ]])"
      ]
     },
     "execution_count": 215,
     "metadata": {},
     "output_type": "execute_result"
    }
   ],
   "source": [
    "pca.get_covariance()"
   ]
  },
  {
   "cell_type": "code",
   "execution_count": 182,
   "metadata": {
    "collapsed": true
   },
   "outputs": [
    {
     "data": {
      "text/plain": [
       "array([[ 3.71379932,  1.53229496],\n",
       "       [ 3.66942412,  0.86944254],\n",
       "       [ 4.27778686,  0.42319201],\n",
       "       [ 1.93986903,  1.36489411],\n",
       "       [ 1.9332924 , -1.72825276],\n",
       "       [ 0.7080513 ,  1.27035379],\n",
       "       [ 0.70289641, -0.51612174],\n",
       "       [ 0.18104342, -1.77402656],\n",
       "       [ 1.60238001,  0.13630016],\n",
       "       [-0.0941915 , -1.47771398],\n",
       "       [ 0.26049508,  0.61625363],\n",
       "       [-0.1233691 , -0.2925685 ],\n",
       "       [-0.29134376,  0.38871467],\n",
       "       [ 0.48322041,  1.12904532],\n",
       "       [ 0.22230014, -1.74280295],\n",
       "       [ 0.11807846, -0.79410706],\n",
       "       [-0.6390413 , -1.065963  ],\n",
       "       [-0.73939288, -0.18834377],\n",
       "       [-0.42318527, -3.13453881],\n",
       "       [-1.33571515,  1.85946013],\n",
       "       [-0.90837579,  0.26341759],\n",
       "       [-0.65569837, -1.09519201],\n",
       "       [-1.83638255,  0.19607058],\n",
       "       [-2.62528441, -1.56263237],\n",
       "       [-2.35923352, -0.19037652],\n",
       "       [-1.48441505,  1.82323607],\n",
       "       [-2.93598042,  0.13250514],\n",
       "       [-3.36102792,  3.55745932]])"
      ]
     },
     "execution_count": 182,
     "metadata": {},
     "output_type": "execute_result"
    }
   ],
   "source": [
    "data_pca"
   ]
  },
  {
   "cell_type": "code",
   "execution_count": 199,
   "metadata": {},
   "outputs": [
    {
     "name": "stdout",
     "output_type": "stream",
     "text": [
      "[[ 0.42270533 -0.18068407]\n",
      " [-0.42146649  0.23154081]\n",
      " [-0.33407359 -0.44373197]\n",
      " [-0.33249211 -0.33625299]\n",
      " [ 0.38995573 -0.35243221]\n",
      " [ 0.37654258 -0.16558589]\n",
      " [-0.28793579 -0.4754243 ]\n",
      " [-0.09539301  0.23248607]\n",
      " [-0.15213083 -0.24151756]\n",
      " [ 0.11193576 -0.33725668]]\n"
     ]
    },
    {
     "data": {
      "text/plain": [
       "array([[-3.71379932, -1.53229496],\n",
       "       [-3.66942412, -0.86944254],\n",
       "       [-4.27778686, -0.42319201],\n",
       "       [-1.93986903, -1.36489411],\n",
       "       [-1.9332924 ,  1.72825276],\n",
       "       [-0.7080513 , -1.27035379],\n",
       "       [-0.70289641,  0.51612174],\n",
       "       [-0.18104342,  1.77402656],\n",
       "       [-1.60238001, -0.13630016],\n",
       "       [ 0.0941915 ,  1.47771398],\n",
       "       [-0.26049508, -0.61625363],\n",
       "       [ 0.1233691 ,  0.2925685 ],\n",
       "       [ 0.29134376, -0.38871467],\n",
       "       [-0.48322041, -1.12904532],\n",
       "       [-0.22230014,  1.74280295],\n",
       "       [-0.11807846,  0.79410706],\n",
       "       [ 0.6390413 ,  1.065963  ],\n",
       "       [ 0.73939288,  0.18834377],\n",
       "       [ 0.42318527,  3.13453881],\n",
       "       [ 1.33571515, -1.85946013],\n",
       "       [ 0.90837579, -0.26341759],\n",
       "       [ 0.65569837,  1.09519201],\n",
       "       [ 1.83638255, -0.19607058],\n",
       "       [ 2.62528441,  1.56263237],\n",
       "       [ 2.35923352,  0.19037652],\n",
       "       [ 1.48441505, -1.82323607],\n",
       "       [ 2.93598042, -0.13250514],\n",
       "       [ 3.36102792, -3.55745932]])"
      ]
     },
     "execution_count": 199,
     "metadata": {},
     "output_type": "execute_result"
    }
   ],
   "source": [
    "ACP(X,2)"
   ]
  },
  {
   "cell_type": "markdown",
   "metadata": {
    "collapsed": true
   },
   "source": [
    "1) Implémentez une ACP sur le même jeu de données que la semaine dernière \"decathlon_acp.csv\". Vérifier que les résultats concordent. <br>\n",
    "\n",
    "2) Plotez la perte de variance en enlevant successivement le plus \"faible\" vecteur propre. Quelle est selon vous le meilleur choix de dimension ?"
   ]
  }
 ],
 "metadata": {
  "kernelspec": {
   "display_name": "Python 3",
   "language": "python",
   "name": "python3"
  },
  "language_info": {
   "codemirror_mode": {
    "name": "ipython",
    "version": 3
   },
   "file_extension": ".py",
   "mimetype": "text/x-python",
   "name": "python",
   "nbconvert_exporter": "python",
   "pygments_lexer": "ipython3",
   "version": "3.6.3"
  },
  "toc": {
   "base_numbering": 1,
   "nav_menu": {},
   "number_sections": true,
   "sideBar": true,
   "skip_h1_title": false,
   "title_cell": "Table of Contents",
   "title_sidebar": "Contents",
   "toc_cell": true,
   "toc_position": {},
   "toc_section_display": true,
   "toc_window_display": true
  }
 },
 "nbformat": 4,
 "nbformat_minor": 2
}
